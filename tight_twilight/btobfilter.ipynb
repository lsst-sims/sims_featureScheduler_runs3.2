{
 "cells": [
  {
   "cell_type": "code",
   "execution_count": 1,
   "id": "1b69d5e5",
   "metadata": {},
   "outputs": [],
   "source": [
    "import numpy as np\n",
    "import pandas as pd\n",
    "import sqlite3\n",
    "import glob"
   ]
  },
  {
   "cell_type": "code",
   "execution_count": 2,
   "id": "c95935dd",
   "metadata": {},
   "outputs": [
    {
     "name": "stdout",
     "output_type": "stream",
     "text": [
      "--------\n",
      "baseline_v3.2_10yrs.db: number of back-to-back swaps= 244\n",
      "--------\n",
      "tight_t1_v3.2_10yrs.db: number of back-to-back swaps= 133\n",
      "--------\n",
      "tight_t2_v3.2_10yrs.db: number of back-to-back swaps= 179\n",
      "--------\n",
      "tight_t3_v3.2_10yrs.db: number of back-to-back swaps= 230\n",
      "--------\n",
      "tight_t4_v3.2_10yrs.db: number of back-to-back swaps= 201\n",
      "--------\n",
      "tight_t5_v3.2_10yrs.db: number of back-to-back swaps= 32\n"
     ]
    }
   ],
   "source": [
    "files = glob.glob('*10yrs.db')\n",
    "files.sort()\n",
    "\n",
    "for filename in files:\n",
    "\n",
    "    con = sqlite3.connect(filename)\n",
    "    df = pd.read_sql('select filter,night,note,observationStartMJD from observations;', con)\n",
    "    con.close()\n",
    "\n",
    "    count = 0\n",
    "    notes = []\n",
    "    for i in np.arange(np.size(df['filter'])-2):\n",
    "        if np.size(np.unique(df['night'].values[i:i+3])) == 1:\n",
    "            if (df['observationStartMJD'][i+2]-df['observationStartMJD'][i]) < (0.5/24.):\n",
    "                if df['filter'].values[i] != df['filter'].values[i+1]:\n",
    "                    if df['filter'].values[i+1] != df['filter'].values[i+2]:\n",
    "                        count += 1\n",
    "                        notes.append([df['note'].values[i:i+3]])\n",
    "    print('--------')\n",
    "    print('%s: number of back-to-back swaps=' % filename, count)\n",
    "    #print(notes)\n"
   ]
  },
  {
   "cell_type": "code",
   "execution_count": 3,
   "id": "2641b22d",
   "metadata": {},
   "outputs": [
    {
     "name": "stdout",
     "output_type": "stream",
     "text": [
      "--------\n",
      "tight_t1_v3.2_10yrs.db: number of back-to-back swaps= 133\n",
      "[[array(['pair_33, ug, a', 'pair_33, ug, b', 'pair_15, iz, a'], dtype=object)], [array(['twilight_near_sun, 3', 'greedy', 'blob_long, gr, a'], dtype=object)], [array(['DD:COSMOS', 'DD:COSMOS', 'DD:COSMOS'], dtype=object)], [array(['pair_15, ri, b', 'greedy', 'DD:ELAISS1'], dtype=object)], [array(['pair_15, iz, a', 'pair_15, iz, b', 'DD:COSMOS'], dtype=object)], [array(['pair_15, iz, a', 'pair_15, iz, b', 'DD:ECDFS'], dtype=object)], [array(['pair_15, iz, b', 'DD:XMM_LSS', 'pair_33, ur, a'], dtype=object)], [array(['greedy', 'greedy', 'twilight_near_sun, 0'], dtype=object)], [array(['pair_15, ri, b', 'greedy', 'pair_15, ri, a'], dtype=object)], [array(['pair_15, ri, b', 'greedy', 'DD:COSMOS'], dtype=object)], [array(['pair_15, ri, b', 'greedy', 'DD:COSMOS'], dtype=object)], [array(['pair_15, zy, a', 'pair_15, zy, b', 'DD:EDFS_a'], dtype=object)], [array(['pair_15, ri, b', 'greedy', 'DD:XMM_LSS'], dtype=object)], [array(['pair_15, ri, a', 'pair_15, ri, b', 'DD:ELAISS1'], dtype=object)], [array(['greedy', 'greedy', 'DD:ELAISS1'], dtype=object)], [array(['pair_15, ri, b', 'greedy', 'DD:XMM_LSS'], dtype=object)], [array(['twilight_near_sun, 3', 'greedy', 'blob_long, gr, a'], dtype=object)], [array(['pair_15, iz, b', 'DD:XMM_LSS', 'DD:EDFS_a'], dtype=object)], [array(['pair_15, ri, b', 'greedy', 'DD:XMM_LSS'], dtype=object)], [array(['pair_15, ri, b', 'greedy', 'DD:EDFS_a'], dtype=object)], [array(['pair_15, ri, a', 'pair_15, ri, b', 'greedy'], dtype=object)], [array(['pair_15, ri, a', 'pair_15, ri, b', 'greedy'], dtype=object)], [array(['pair_15, ri, a', 'pair_15, ri, b', 'DD:COSMOS'], dtype=object)], [array(['pair_15, ri, a', 'pair_15, ri, b', 'DD:COSMOS'], dtype=object)], [array(['pair_15, ri, b', 'greedy', 'DD:COSMOS'], dtype=object)], [array(['pair_15, zy, a', 'pair_15, zy, b', 'DD:COSMOS'], dtype=object)], [array(['pair_15, ri, b', 'greedy', 'DD:COSMOS'], dtype=object)], [array(['pair_15, ri, b', 'greedy', 'DD:COSMOS'], dtype=object)], [array(['pair_15, ri, b', 'greedy', 'pair_33, gr, a'], dtype=object)], [array(['pair_15, ri, b', 'greedy', 'DD:COSMOS'], dtype=object)], [array(['pair_15, ri, b', 'greedy', 'DD:COSMOS'], dtype=object)], [array(['pair_15, ri, b', 'greedy', 'pair_15, ri, a'], dtype=object)], [array(['greedy', 'pair_15, ri, a', 'pair_15, ri, b'], dtype=object)], [array(['pair_15, ri, a', 'pair_15, ri, b', 'DD:COSMOS'], dtype=object)], [array(['DD:ELAISS1', 'greedy', 'twilight_near_sun, 0'], dtype=object)], [array(['pair_33, zy, b', 'long', 'pair_33, iz, a'], dtype=object)], [array(['DD:EDFS_a', 'DD:EDFS_a', 'DD:EDFS_b'], dtype=object)], [array(['pair_15, ri, a', 'pair_15, ri, b', 'DD:ELAISS1'], dtype=object)], [array(['pair_15, ri, b', 'greedy', 'DD:XMM_LSS'], dtype=object)], [array(['pair_33, iz, b', 'long', 'greedy'], dtype=object)], [array(['pair_15, ri, b', 'greedy', 'DD:ECDFS'], dtype=object)], [array(['greedy', 'greedy', 'blob_long, gr, a'], dtype=object)], [array(['twilight_near_sun, 3', 'greedy', 'DD:COSMOS'], dtype=object)], [array(['pair_15, iz, a', 'pair_15, iz, b', 'DD:COSMOS'], dtype=object)], [array(['pair_15, yy, b', 'greedy', 'DD:COSMOS'], dtype=object)], [array(['DD:ELAISS1', 'greedy', 'twilight_near_sun, 0'], dtype=object)], [array(['DD:EDFS_a', 'DD:EDFS_a', 'DD:EDFS_b'], dtype=object)], [array(['pair_15, ri, a', 'pair_15, ri, b', 'greedy'], dtype=object)], [array(['pair_15, ri, b', 'greedy', 'pair_15, ri, a'], dtype=object)], [array(['pair_33, ri, b', 'greedy', 'pair_33, ur, a'], dtype=object)], [array(['pair_33, ur, b', 'greedy', 'pair_33, ri, a'], dtype=object)], [array(['greedy', 'long', 'greedy'], dtype=object)], [array(['pair_15, ri, b', 'greedy', 'pair_33, ur, a'], dtype=object)], [array(['DD:ECDFS', 'DD:ECDFS', 'pair_33, yy, a'], dtype=object)], [array(['greedy', 'greedy', 'DD:ECDFS'], dtype=object)], [array(['pair_33, gr, a', 'pair_33, gr, b', 'pair_33, ur, a'], dtype=object)], [array(['pair_15, ri, b', 'greedy', 'DD:COSMOS'], dtype=object)], [array(['pair_33, ur, b', 'long', 'pair_33, gr, a'], dtype=object)], [array(['pair_15, ri, b', 'greedy', 'DD:COSMOS'], dtype=object)], [array(['DD:XMM_LSS', 'DD:XMM_LSS', 'DD:EDFS_a'], dtype=object)], [array(['DD:ECDFS', 'greedy', 'twilight_near_sun, 0'], dtype=object)], [array(['pair_33, gr, b', 'long', 'greedy'], dtype=object)], [array(['pair_15, ri, a', 'pair_15, ri, b', 'greedy'], dtype=object)], [array(['pair_15, ri, b', 'greedy', 'DD:XMM_LSS'], dtype=object)], [array(['pair_15, iz, a', 'pair_15, iz, b', 'DD:COSMOS'], dtype=object)], [array(['pair_15, ri, b', 'greedy', 'DD:ECDFS'], dtype=object)], [array(['greedy', 'greedy', 'DD:ECDFS'], dtype=object)], [array(['greedy', 'greedy', 'DD:ECDFS'], dtype=object)], [array(['pair_33, yy, b', 'long', 'pair_33, gr, a'], dtype=object)], [array(['pair_33, ur, b', 'long', 'pair_33, gr, a'], dtype=object)], [array(['greedy', 'greedy', 'DD:COSMOS'], dtype=object)], [array(['pair_15, zy, a', 'pair_15, zy, b', 'DD:COSMOS'], dtype=object)], [array(['DD:ECDFS', 'greedy', 'twilight_near_sun, 0'], dtype=object)], [array(['pair_15, ri, a', 'pair_15, ri, b', 'DD:ECDFS'], dtype=object)], [array(['DD:ECDFS', 'greedy', 'twilight_near_sun, 0'], dtype=object)], [array(['pair_33, ug, b', 'greedy', 'pair_33, ug, a'], dtype=object)], [array(['pair_15, ri, b', 'greedy', 'DD:XMM_LSS'], dtype=object)], [array(['pair_33, ri, b', 'long', 'greedy'], dtype=object)], [array(['long', 'greedy', 'long'], dtype=object)], [array(['pair_33, zy, a', 'pair_33, zy, b', 'long'], dtype=object)], [array(['pair_15, ri, a', 'pair_15, ri, b', 'greedy'], dtype=object)], [array(['pair_15, ri, a', 'pair_15, ri, b', 'greedy'], dtype=object)], [array(['long', 'greedy', 'long'], dtype=object)], [array(['pair_15, iz, a', 'pair_15, iz, b', 'DD:COSMOS'], dtype=object)], [array(['long', 'greedy', 'long'], dtype=object)], [array(['greedy', 'long', 'greedy'], dtype=object)], [array(['twilight_near_sun, 2', 'greedy', 'DD:XMM_LSS'], dtype=object)], [array(['pair_15, ri, b', 'greedy', 'DD:XMM_LSS'], dtype=object)], [array(['pair_15, ri, b', 'greedy', 'DD:ECDFS'], dtype=object)], [array(['greedy', 'greedy', 'twilight_near_sun, 0'], dtype=object)], [array(['greedy', 'greedy', 'blob_long, gr, a'], dtype=object)], [array(['greedy', 'greedy', 'DD:ECDFS'], dtype=object)], [array(['pair_33, iz, b', 'greedy', 'DD:ELAISS1'], dtype=object)], [array(['greedy', 'greedy', 'blob_long, gr, a'], dtype=object)], [array(['pair_15, ri, a', 'pair_15, ri, b', 'DD:ELAISS1'], dtype=object)], [array(['greedy', 'greedy', 'twilight_near_sun, 0'], dtype=object)], [array(['greedy', 'long', 'greedy'], dtype=object)], [array(['pair_15, ri, b', 'greedy', 'DD:ELAISS1'], dtype=object)], [array(['pair_15, ri, a', 'pair_15, ri, b', 'greedy'], dtype=object)], [array(['pair_33, gr, b', 'long', 'greedy'], dtype=object)], [array(['pair_15, ri, a', 'pair_15, ri, b', 'greedy'], dtype=object)], [array(['pair_15, ri, a', 'pair_15, ri, b', 'greedy'], dtype=object)], [array(['greedy', 'greedy', 'blob_long, gr, a'], dtype=object)], [array(['pair_15, ri, a', 'pair_15, ri, b', 'DD:COSMOS'], dtype=object)], [array(['pair_15, iz, a', 'pair_15, iz, b', 'DD:EDFS_a'], dtype=object)], [array(['DD:ECDFS', 'greedy', 'twilight_near_sun, 0'], dtype=object)], [array(['pair_33, ri, b', 'long', 'pair_33, ur, a'], dtype=object)], [array(['pair_33, ur, b', 'long', 'pair_33, ur, a'], dtype=object)], [array(['greedy', 'greedy', 'twilight_near_sun, 0'], dtype=object)], [array(['DD:ELAISS1', 'DD:ELAISS1', 'DD:ECDFS'], dtype=object)], [array(['greedy', 'greedy', 'DD:ELAISS1'], dtype=object)], [array(['pair_15, ri, a', 'pair_15, ri, b', 'DD:COSMOS'], dtype=object)], [array(['long', 'greedy', 'long'], dtype=object)], [array(['greedy', 'greedy', 'long'], dtype=object)], [array(['pair_15, zy, a', 'pair_15, zy, b', 'DD:ECDFS'], dtype=object)], [array(['pair_15, ri, b', 'greedy', 'DD:COSMOS'], dtype=object)], [array(['pair_33, ur, b', 'long', 'pair_33, ur, a'], dtype=object)], [array(['twilight_near_sun, 3', 'greedy', 'blob_long, gr, a'], dtype=object)], [array(['pair_15, ri, b', 'greedy', 'DD:ELAISS1'], dtype=object)], [array(['pair_15, ri, b', 'greedy', 'DD:XMM_LSS'], dtype=object)], [array(['pair_15, zy, b', 'greedy', 'DD:ECDFS'], dtype=object)], [array(['pair_15, ri, b', 'greedy', 'DD:ECDFS'], dtype=object)], [array(['pair_15, ri, b', 'greedy', 'DD:COSMOS'], dtype=object)], [array(['pair_15, ri, b', 'greedy', 'DD:COSMOS'], dtype=object)], [array(['pair_15, iz, a', 'pair_15, iz, b', 'DD:XMM_LSS'], dtype=object)], [array(['pair_15, iz, a', 'pair_15, iz, b', 'DD:ECDFS'], dtype=object)], [array(['pair_33, gr, b', 'long', 'pair_33, gr, a'], dtype=object)], [array(['pair_33, ur, b', 'greedy', 'pair_33, ug, a'], dtype=object)], [array(['twilight_near_sun, 3', 'greedy', 'DD:XMM_LSS'], dtype=object)], [array(['long', 'greedy', 'long'], dtype=object)], [array(['pair_33, iz, b', 'long', 'greedy'], dtype=object)], [array(['pair_33, iz, b', 'long', 'pair_33, zy, a'], dtype=object)], [array(['pair_33, zy, b', 'long', 'pair_33, zy, a'], dtype=object)]]\n"
     ]
    }
   ],
   "source": [
    "files = ['tight_t1_v3.2_10yrs.db']\n",
    "for filename in files:\n",
    "\n",
    "    con = sqlite3.connect(filename)\n",
    "    df = pd.read_sql('select filter,night,note,observationStartMJD from observations;', con)\n",
    "    con.close()\n",
    "\n",
    "    count = 0\n",
    "    notes = []\n",
    "    for i in np.arange(np.size(df['filter'])-2):\n",
    "        if np.size(np.unique(df['night'].values[i:i+3])) == 1:\n",
    "            if (df['observationStartMJD'][i+2]-df['observationStartMJD'][i]) < (0.5/24.):\n",
    "                if df['filter'].values[i] != df['filter'].values[i+1]:\n",
    "                    if df['filter'].values[i+1] != df['filter'].values[i+2]:\n",
    "                        count += 1\n",
    "                        notes.append([df['note'].values[i:i+3]])\n",
    "    print('--------')\n",
    "    print('%s: number of back-to-back swaps=' % filename, count)\n",
    "    print(notes)\n"
   ]
  },
  {
   "cell_type": "code",
   "execution_count": null,
   "id": "0f53ee40",
   "metadata": {},
   "outputs": [],
   "source": []
  },
  {
   "cell_type": "code",
   "execution_count": null,
   "id": "a30795b5",
   "metadata": {},
   "outputs": [],
   "source": []
  },
  {
   "cell_type": "code",
   "execution_count": null,
   "id": "a545945f",
   "metadata": {},
   "outputs": [],
   "source": []
  },
  {
   "cell_type": "code",
   "execution_count": null,
   "id": "e0c8547f",
   "metadata": {},
   "outputs": [],
   "source": []
  },
  {
   "cell_type": "code",
   "execution_count": null,
   "id": "e64a51d3",
   "metadata": {},
   "outputs": [],
   "source": []
  },
  {
   "cell_type": "code",
   "execution_count": null,
   "id": "d7063715",
   "metadata": {},
   "outputs": [],
   "source": [
    "\n"
   ]
  },
  {
   "cell_type": "code",
   "execution_count": null,
   "id": "c70eca9e",
   "metadata": {},
   "outputs": [],
   "source": []
  }
 ],
 "metadata": {
  "kernelspec": {
   "display_name": "Python 3 (ipykernel)",
   "language": "python",
   "name": "python3"
  },
  "language_info": {
   "codemirror_mode": {
    "name": "ipython",
    "version": 3
   },
   "file_extension": ".py",
   "mimetype": "text/x-python",
   "name": "python",
   "nbconvert_exporter": "python",
   "pygments_lexer": "ipython3",
   "version": "3.11.4"
  }
 },
 "nbformat": 4,
 "nbformat_minor": 5
}
