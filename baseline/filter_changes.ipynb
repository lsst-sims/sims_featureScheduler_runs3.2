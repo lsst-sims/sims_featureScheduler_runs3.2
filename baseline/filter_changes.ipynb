{
 "cells": [
  {
   "cell_type": "code",
   "execution_count": 2,
   "id": "53f5feef-e60b-4a18-aa2c-78bcfecfd22d",
   "metadata": {},
   "outputs": [],
   "source": [
    "import numpy as np\n",
    "import sqlite3\n",
    "import pandas as pd\n",
    "import matplotlib.pylab as plt\n",
    "%matplotlib inline"
   ]
  },
  {
   "cell_type": "code",
   "execution_count": 5,
   "id": "53a6aafb-ebb9-4583-94ef-531a1f77edde",
   "metadata": {},
   "outputs": [],
   "source": [
    "con = sqlite3.connect('baseline_v3.2_10yrs.db')\n",
    "df = pd.read_sql('select night, filter from observations;', con)\n",
    "con.close()"
   ]
  },
  {
   "cell_type": "code",
   "execution_count": 9,
   "id": "c49c5bbf-952c-4fbf-b314-829202f8b405",
   "metadata": {},
   "outputs": [],
   "source": [
    "night = df['night'].values\n",
    "filter = df['filter'].values"
   ]
  },
  {
   "cell_type": "code",
   "execution_count": null,
   "id": "ef585a05-5e8d-4b03-96ba-22dffde36ad3",
   "metadata": {},
   "outputs": [],
   "source": []
  },
  {
   "cell_type": "code",
   "execution_count": 15,
   "id": "f1e1a4ce-1197-4394-bc5c-9d1dedaaa0a4",
   "metadata": {},
   "outputs": [],
   "source": [
    "changes = []\n",
    "for un in np.unique(night):\n",
    "    in_night = np.where(night == un)[0]\n",
    "    changes.append(np.where(filter[in_night][1:] != filter[in_night][:-1])[0].size)"
   ]
  },
  {
   "cell_type": "code",
   "execution_count": 21,
   "id": "1ab4d0d5-efc5-4a1c-94a2-36016c8bd889",
   "metadata": {},
   "outputs": [
    {
     "data": {
      "text/plain": [
       "14.0"
      ]
     },
     "execution_count": 21,
     "metadata": {},
     "output_type": "execute_result"
    }
   ],
   "source": [
    "np.median(changes)"
   ]
  },
  {
   "cell_type": "code",
   "execution_count": 19,
   "id": "9c67e925-81f1-43be-a585-7696f145982d",
   "metadata": {},
   "outputs": [
    {
     "data": {
      "image/png": "[encoded data removed]",
      "text/plain": [
       "<Figure size 640x480 with 1 Axes>"
      ]
     },
     "metadata": {},
     "output_type": "display_data"
    }
   ],
   "source": [
    "_ack = plt.hist(changes)"
   ]
  },
  {
   "cell_type": "code",
   "execution_count": 22,
   "id": "ac70497d-6f8e-4f32-b859-865e82d1da58",
   "metadata": {},
   "outputs": [
    {
     "data": {
      "text/plain": [
       "13.670345318618725"
      ]
     },
     "execution_count": 22,
     "metadata": {},
     "output_type": "execute_result"
    }
   ],
   "source": [
    "38400/2809"
   ]
  },
  {
   "cell_type": "code",
   "execution_count": 23,
   "id": "5438edcb-121d-40c5-bc48-13dcaa7378d5",
   "metadata": {},
   "outputs": [
    {
     "data": {
      "text/plain": [
       "14.084727661089355"
      ]
     },
     "execution_count": 23,
     "metadata": {},
     "output_type": "execute_result"
    }
   ],
   "source": [
    "39564/2809\n"
   ]
  },
  {
   "cell_type": "code",
   "execution_count": 30,
   "id": "0fea7c5f-7a83-4656-8569-93bac66e1ab9",
   "metadata": {},
   "outputs": [],
   "source": [
    "from rubin_sim.maf.batches import filtersPerNight\n",
    "from rubin_sim import maf"
   ]
  },
  {
   "cell_type": "code",
   "execution_count": 28,
   "id": "ce31f5bd-4437-4f41-b9aa-60f3462523f0",
   "metadata": {},
   "outputs": [],
   "source": [
    "fpn = filtersPerNight()"
   ]
  },
  {
   "cell_type": "code",
   "execution_count": 29,
   "id": "cb40f82b-78f5-4355-bf67-c81eb417c404",
   "metadata": {},
   "outputs": [
    {
     "data": {
      "text/plain": [
       "{'opsim_Filter_Changes_Per_Night_ONED': <rubin_sim.maf.metric_bundles.metric_bundle.MetricBundle at 0x28acce450>,\n",
       " 'opsim_Minimum_time_between_filter_changes_minutes_Per_Night_ONED': <rubin_sim.maf.metric_bundles.metric_bundle.MetricBundle at 0x28ac99290>,\n",
       " 'opsim_Number_of_filter_changes_faster_than_lt10_0_minutes_Per_Night_ONED': <rubin_sim.maf.metric_bundles.metric_bundle.MetricBundle at 0x28c0f7910>,\n",
       " 'opsim_Number_of_filter_changes_faster_than_lt20_0_minutes_Per_Night_ONED': <rubin_sim.maf.metric_bundles.metric_bundle.MetricBundle at 0x28c0f7b10>,\n",
       " 'opsim_Max_number_of_filter_changes_within_10_0_minutes_Per_Night_ONED': <rubin_sim.maf.metric_bundles.metric_bundle.MetricBundle at 0x28c0f7cd0>,\n",
       " 'opsim_Max_number_of_filter_changes_within_20_0_minutes_Per_Night_ONED': <rubin_sim.maf.metric_bundles.metric_bundle.MetricBundle at 0x28c0f7ed0>}"
      ]
     },
     "execution_count": 29,
     "metadata": {},
     "output_type": "execute_result"
    }
   ],
   "source": [
    "fpn"
   ]
  },
  {
   "cell_type": "code",
   "execution_count": null,
   "id": "9f49db81-9ee3-42c8-a737-dcef5f3b26ec",
   "metadata": {},
   "outputs": [
    {
     "name": "stdout",
     "output_type": "stream",
     "text": [
      "> \u001b[0;32m/Users/yoachim/git_repos/rubin_sim/rubin_sim/maf/metrics/technical_metrics.py\u001b[0m(32)\u001b[0;36mrun\u001b[0;34m()\u001b[0m\n",
      "\u001b[0;32m     30 \u001b[0;31m        \u001b[0;32mif\u001b[0m \u001b[0mnp\u001b[0m\u001b[0;34m.\u001b[0m\u001b[0msize\u001b[0m\u001b[0;34m(\u001b[0m\u001b[0mnp\u001b[0m\u001b[0;34m.\u001b[0m\u001b[0mwhere\u001b[0m\u001b[0;34m(\u001b[0m\u001b[0mdiff\u001b[0m \u001b[0;34m==\u001b[0m \u001b[0;32mTrue\u001b[0m\u001b[0;34m)\u001b[0m\u001b[0;34m[\u001b[0m\u001b[0;36m0\u001b[0m\u001b[0;34m]\u001b[0m\u001b[0;34m)\u001b[0m \u001b[0;34m>\u001b[0m \u001b[0;36m20\u001b[0m\u001b[0;34m:\u001b[0m\u001b[0;34m\u001b[0m\u001b[0;34m\u001b[0m\u001b[0m\n",
      "\u001b[0m\u001b[0;32m     31 \u001b[0;31m            \u001b[0;32mimport\u001b[0m \u001b[0mpdb\u001b[0m \u001b[0;34m;\u001b[0m \u001b[0mpdb\u001b[0m\u001b[0;34m.\u001b[0m\u001b[0mset_trace\u001b[0m\u001b[0;34m(\u001b[0m\u001b[0;34m)\u001b[0m\u001b[0;34m\u001b[0m\u001b[0;34m\u001b[0m\u001b[0m\n",
      "\u001b[0m\u001b[0;32m---> 32 \u001b[0;31m        \u001b[0;32mreturn\u001b[0m \u001b[0mnp\u001b[0m\u001b[0;34m.\u001b[0m\u001b[0msize\u001b[0m\u001b[0;34m(\u001b[0m\u001b[0mnp\u001b[0m\u001b[0;34m.\u001b[0m\u001b[0mwhere\u001b[0m\u001b[0;34m(\u001b[0m\u001b[0mdiff\u001b[0m \u001b[0;34m==\u001b[0m \u001b[0;32mTrue\u001b[0m\u001b[0;34m)\u001b[0m\u001b[0;34m[\u001b[0m\u001b[0;36m0\u001b[0m\u001b[0;34m]\u001b[0m\u001b[0;34m)\u001b[0m\u001b[0;34m\u001b[0m\u001b[0;34m\u001b[0m\u001b[0m\n",
      "\u001b[0m\u001b[0;32m     33 \u001b[0;31m\u001b[0;34m\u001b[0m\u001b[0m\n",
      "\u001b[0m\u001b[0;32m     34 \u001b[0;31m\u001b[0;34m\u001b[0m\u001b[0m\n",
      "\u001b[0m\n"
     ]
    },
    {
     "name": "stdin",
     "output_type": "stream",
     "text": [
      "ipdb>  data_slice\n"
     ]
    },
    {
     "name": "stdout",
     "output_type": "stream",
     "text": [
      "rec.array([(60796.00126323, 0, 'r'), (60796.28758525, 0, 'u'),\n",
      "           (60796.2880005 , 0, 'u'), ..., (60797.11677091, 1, 'g'),\n",
      "           (60797.11631827, 1, 'g'), (60797.11812729, 1, 'g')],\n",
      "          dtype=[('observationStartMJD', '<f8'), ('night', '<i8'), ('filter', 'O')])\n"
     ]
    },
    {
     "name": "stdin",
     "output_type": "stream",
     "text": [
      "ipdb>  data_slice['night']\n"
     ]
    },
    {
     "name": "stdout",
     "output_type": "stream",
     "text": [
      "array([0, 0, 0, ..., 1, 1, 1])\n"
     ]
    }
   ],
   "source": [
    "bg = maf.metricBundles.MetricBundleGroup(fpn, 'baseline_v3.2_10yrs.db', out_dir='temp', results_db=None)\n",
    "bg.run_all()\n"
   ]
  },
  {
   "cell_type": "code",
   "execution_count": null,
   "id": "a03597c3-7bb2-4300-8ba6-bd2ceb21b6e5",
   "metadata": {},
   "outputs": [],
   "source": []
  }
 ],
 "metadata": {
  "kernelspec": {
   "display_name": "Python 3 (ipykernel)",
   "language": "python",
   "name": "python3"
  },
  "language_info": {
   "codemirror_mode": {
    "name": "ipython",
    "version": 3
   },
   "file_extension": ".py",
   "mimetype": "text/x-python",
   "name": "python",
   "nbconvert_exporter": "python",
   "pygments_lexer": "ipython3",
   "version": "3.11.4"
  }
 },
 "nbformat": 4,
 "nbformat_minor": 5
}
