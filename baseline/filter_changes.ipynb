{
 "cells": [
  {
   "cell_type": "code",
   "execution_count": 1,
   "id": "53f5feef-e60b-4a18-aa2c-78bcfecfd22d",
   "metadata": {},
   "outputs": [],
   "source": [
    "import numpy as np\n",
    "import sqlite3\n",
    "import pandas as pd\n",
    "import matplotlib.pylab as plt\n",
    "%matplotlib inline"
   ]
  },
  {
   "cell_type": "code",
   "execution_count": 2,
   "id": "53a6aafb-ebb9-4583-94ef-531a1f77edde",
   "metadata": {},
   "outputs": [],
   "source": [
    "con = sqlite3.connect('baseline_v3.2_10yrs.db')\n",
    "df = pd.read_sql('select night, filter from observations;', con)\n",
    "con.close()"
   ]
  },
  {
   "cell_type": "code",
   "execution_count": 3,
   "id": "c49c5bbf-952c-4fbf-b314-829202f8b405",
   "metadata": {},
   "outputs": [],
   "source": [
    "night = df['night'].values\n",
    "filter = df['filter'].values"
   ]
  },
  {
   "cell_type": "code",
   "execution_count": null,
   "id": "ef585a05-5e8d-4b03-96ba-22dffde36ad3",
   "metadata": {},
   "outputs": [],
   "source": []
  },
  {
   "cell_type": "code",
   "execution_count": 4,
   "id": "f1e1a4ce-1197-4394-bc5c-9d1dedaaa0a4",
   "metadata": {},
   "outputs": [],
   "source": [
    "changes = []\n",
    "for un in np.unique(night):\n",
    "    in_night = np.where(night == un)[0]\n",
    "    changes.append(np.where(filter[in_night][1:] != filter[in_night][:-1])[0].size)"
   ]
  },
  {
   "cell_type": "code",
   "execution_count": 5,
   "id": "1ab4d0d5-efc5-4a1c-94a2-36016c8bd889",
   "metadata": {},
   "outputs": [
    {
     "data": {
      "text/plain": [
       "14.0"
      ]
     },
     "execution_count": 5,
     "metadata": {},
     "output_type": "execute_result"
    }
   ],
   "source": [
    "np.median(changes)"
   ]
  },
  {
   "cell_type": "code",
   "execution_count": 6,
   "id": "9c67e925-81f1-43be-a585-7696f145982d",
   "metadata": {},
   "outputs": [
    {
     "data": {
      "image/png": "[encoded data removed]",
      "text/plain": [
       "<Figure size 640x480 with 1 Axes>"
      ]
     },
     "metadata": {},
     "output_type": "display_data"
    }
   ],
   "source": [
    "_ack = plt.hist(changes)"
   ]
  },
  {
   "cell_type": "code",
   "execution_count": 7,
   "id": "ac70497d-6f8e-4f32-b859-865e82d1da58",
   "metadata": {},
   "outputs": [
    {
     "data": {
      "text/plain": [
       "13.670345318618725"
      ]
     },
     "execution_count": 7,
     "metadata": {},
     "output_type": "execute_result"
    }
   ],
   "source": [
    "38400/2809"
   ]
  },
  {
   "cell_type": "code",
   "execution_count": 8,
   "id": "5438edcb-121d-40c5-bc48-13dcaa7378d5",
   "metadata": {},
   "outputs": [
    {
     "data": {
      "text/plain": [
       "14.084727661089355"
      ]
     },
     "execution_count": 8,
     "metadata": {},
     "output_type": "execute_result"
    }
   ],
   "source": [
    "39564/2809\n"
   ]
  },
  {
   "cell_type": "code",
   "execution_count": 9,
   "id": "0fea7c5f-7a83-4656-8569-93bac66e1ab9",
   "metadata": {},
   "outputs": [],
   "source": [
    "from rubin_sim.maf.batches import filtersPerNight\n",
    "from rubin_sim import maf"
   ]
  },
  {
   "cell_type": "code",
   "execution_count": 10,
   "id": "ce31f5bd-4437-4f41-b9aa-60f3462523f0",
   "metadata": {},
   "outputs": [],
   "source": [
    "fpn = filtersPerNight()"
   ]
  },
  {
   "cell_type": "code",
   "execution_count": 11,
   "id": "cb40f82b-78f5-4355-bf67-c81eb417c404",
   "metadata": {},
   "outputs": [
    {
     "data": {
      "text/plain": [
       "{'opsim_Filter_Changes_Per_Night_ONED': <rubin_sim.maf.metric_bundles.metric_bundle.MetricBundle at 0x142099010>,\n",
       " 'opsim_Minimum_time_between_filter_changes_minutes_Per_Night_ONED': <rubin_sim.maf.metric_bundles.metric_bundle.MetricBundle at 0x1417a9690>,\n",
       " 'opsim_Number_of_filter_changes_faster_than_lt10_0_minutes_Per_Night_ONED': <rubin_sim.maf.metric_bundles.metric_bundle.MetricBundle at 0x14227e050>,\n",
       " 'opsim_Number_of_filter_changes_faster_than_lt20_0_minutes_Per_Night_ONED': <rubin_sim.maf.metric_bundles.metric_bundle.MetricBundle at 0x14227f710>,\n",
       " 'opsim_Max_number_of_filter_changes_within_10_0_minutes_Per_Night_ONED': <rubin_sim.maf.metric_bundles.metric_bundle.MetricBundle at 0x14227f8d0>,\n",
       " 'opsim_Max_number_of_filter_changes_within_20_0_minutes_Per_Night_ONED': <rubin_sim.maf.metric_bundles.metric_bundle.MetricBundle at 0x14227fad0>}"
      ]
     },
     "execution_count": 11,
     "metadata": {},
     "output_type": "execute_result"
    }
   ],
   "source": [
    "fpn"
   ]
  },
  {
   "cell_type": "code",
   "execution_count": 12,
   "id": "9f49db81-9ee3-42c8-a737-dcef5f3b26ec",
   "metadata": {},
   "outputs": [
    {
     "name": "stderr",
     "output_type": "stream",
     "text": [
      "/Users/yoachim/git_repos/rubin_sim/rubin_sim/maf/slicers/one_d_slicer.py:102: UserWarning: Warning: this OneDSlicer was already set up once. Re-setting up a OneDSlicer is unpredictable; at the very least, it will change the mapping of the simulated data into the data slices. A safer choice is to use a separate OneDSlicer for each MetricBundle.\n",
      "  warnings.warn(warning_msg)\n"
     ]
    }
   ],
   "source": [
    "bg = maf.metricBundles.MetricBundleGroup(fpn, 'baseline_v3.2_10yrs.db', out_dir='temp', results_db=None)\n",
    "bg.run_all()\n"
   ]
  },
  {
   "cell_type": "code",
   "execution_count": 13,
   "id": "a03597c3-7bb2-4300-8ba6-bd2ceb21b6e5",
   "metadata": {},
   "outputs": [
    {
     "data": {
      "image/png": "[encoded data removed]",
      "text/plain": [
       "<Figure size 640x480 with 1 Axes>"
      ]
     },
     "metadata": {},
     "output_type": "display_data"
    }
   ],
   "source": [
    "ack = plt.hist(fpn['opsim_Filter_Changes_Per_Night_ONED'].metric_values[~fpn['opsim_Filter_Changes_Per_Night_ONED'].metric_values.mask])"
   ]
  },
  {
   "cell_type": "code",
   "execution_count": 14,
   "id": "92bec208-2b8d-4c7c-92d2-a37b4f13c42c",
   "metadata": {},
   "outputs": [
    {
     "data": {
      "text/plain": [
       "masked_array(data=[12.0, 16.0, 15.0, ..., 8.0, 4.0, 15.0],\n",
       "             mask=[False, False, False, ..., False, False, False],\n",
       "       fill_value=0.0)"
      ]
     },
     "execution_count": 14,
     "metadata": {},
     "output_type": "execute_result"
    }
   ],
   "source": [
    "fpn['opsim_Filter_Changes_Per_Night_ONED'].metric_values"
   ]
  },
  {
   "cell_type": "code",
   "execution_count": 15,
   "id": "16081257-b34e-44bf-b375-af96c55febe3",
   "metadata": {},
   "outputs": [
    {
     "data": {
      "text/plain": [
       "(array([  14,   18,   23,   24,   25,   28,   29,   30,   31,   35,   38,\n",
       "          39,   40,   41,   42,   43,   44,   51,   55,   63,   64,   73,\n",
       "          84,   89,   92,   95,   96,   97,   98,   99,  103,  118,  132,\n",
       "         145,  146,  147,  148,  149,  150,  151,  172,  186,  187,  188,\n",
       "         189,  190,  191,  192,  193,  239,  240,  241,  265,  288,  289,\n",
       "         296,  297,  353,  371,  373,  380,  382,  384,  388,  389,  393,\n",
       "         400,  403,  404,  405,  406,  407,  408,  409,  411,  412,  424,\n",
       "         432,  439,  444,  446,  449,  450,  451,  453,  454,  455,  457,\n",
       "         458,  459,  460,  462,  463,  464,  465,  467,  469,  483,  500,\n",
       "         502,  509,  510,  512,  513,  514,  516,  521,  522,  523,  524,\n",
       "         525,  527,  528,  529,  535,  548,  552,  553,  554,  555,  556,\n",
       "         557,  558,  562,  565,  595,  596,  597,  598,  663,  691,  706,\n",
       "         707,  708,  724,  725,  732,  735,  736,  737,  738,  740,  767,\n",
       "         768,  769,  770,  771,  772,  773,  774,  775,  776,  777,  778,\n",
       "         779,  780,  781,  784,  790,  791,  792,  793,  795,  796,  802,\n",
       "         803,  804,  811,  812,  813,  814,  821,  827,  828,  831,  834,\n",
       "         836,  862,  865,  867,  868,  881,  888,  890,  935,  936,  937,\n",
       "         953,  954,  955,  974,  977, 1033, 1055, 1067, 1073, 1084, 1085,\n",
       "        1086, 1097, 1098, 1106, 1107, 1108, 1112, 1131, 1132, 1133, 1134,\n",
       "        1135, 1136, 1137, 1138, 1139, 1141, 1142, 1143, 1144, 1145, 1146,\n",
       "        1147, 1149, 1150, 1152, 1153, 1154, 1155, 1156, 1157, 1158, 1159,\n",
       "        1160, 1163, 1164, 1169, 1170, 1171, 1173, 1174, 1175, 1176, 1177,\n",
       "        1180, 1189, 1192, 1193, 1204, 1212, 1216, 1223, 1224, 1230, 1231,\n",
       "        1236, 1241, 1243, 1251, 1252, 1254, 1266, 1267, 1269, 1274, 1282,\n",
       "        1283, 1284, 1285, 1286, 1287, 1288, 1293, 1295, 1296, 1297, 1308,\n",
       "        1326, 1327, 1328, 1344, 1349, 1351, 1356, 1358, 1379, 1389, 1411,\n",
       "        1425, 1433, 1434, 1438, 1451, 1455, 1457, 1458, 1462, 1465, 1466,\n",
       "        1467, 1468, 1469, 1470, 1471, 1474, 1476, 1477, 1478, 1498, 1499,\n",
       "        1500, 1501, 1502, 1503, 1504, 1505, 1506, 1507, 1508, 1509, 1510,\n",
       "        1511, 1519, 1521, 1525, 1531, 1532, 1544, 1545, 1546, 1547, 1548,\n",
       "        1549, 1550, 1551, 1552, 1553, 1555, 1568, 1577, 1579, 1580, 1583,\n",
       "        1584, 1589, 1590, 1594, 1599, 1607, 1609, 1614, 1615, 1617, 1618,\n",
       "        1622, 1623, 1624, 1625, 1639, 1642, 1643, 1644, 1651, 1656, 1660,\n",
       "        1661, 1662, 1663, 1671, 1674, 1676, 1677, 1678, 1679, 1680, 1682,\n",
       "        1692, 1702, 1745, 1754, 1755, 1756, 1793, 1801, 1802, 1806, 1807,\n",
       "        1808, 1809, 1814, 1815, 1816, 1817, 1819, 1820, 1823, 1824, 1825,\n",
       "        1835, 1836, 1840, 1841, 1842, 1846, 1851, 1856, 1858, 1861, 1862,\n",
       "        1863, 1864, 1865, 1866, 1867, 1868, 1869, 1877, 1882, 1886, 1891,\n",
       "        1892, 1894, 1897, 1903, 1905, 1906, 1912, 1913, 1915, 1916, 1920,\n",
       "        1921, 1922, 1930, 1931, 1932, 1939, 1948, 1949, 1950, 1961, 1967,\n",
       "        1968, 1969, 1975, 1977, 1978, 1979, 1980, 1981, 1986, 1987, 1988,\n",
       "        1989, 1990, 1991, 1992, 1995, 2003, 2005, 2006, 2008, 2012, 2013,\n",
       "        2014, 2015, 2016, 2017, 2018, 2027, 2032, 2072, 2073, 2074, 2075,\n",
       "        2076, 2077, 2078, 2079, 2080, 2081, 2082, 2083, 2084, 2085, 2129,\n",
       "        2130, 2158, 2159, 2168, 2170, 2177, 2184, 2185, 2186, 2187, 2189,\n",
       "        2191, 2194, 2199, 2200, 2201, 2203, 2209, 2210, 2212, 2214, 2216,\n",
       "        2217, 2221, 2222, 2223, 2227, 2228, 2229, 2230, 2231, 2232, 2233,\n",
       "        2234, 2235, 2236, 2237, 2238, 2239, 2240, 2241, 2243, 2263, 2264,\n",
       "        2266, 2268, 2280, 2281, 2284, 2286, 2287, 2288, 2289, 2290, 2313,\n",
       "        2314, 2325, 2327, 2331, 2332, 2334, 2336, 2352, 2353, 2361, 2369,\n",
       "        2380, 2405, 2485, 2489, 2563, 2564, 2565, 2566, 2567, 2569, 2573,\n",
       "        2576, 2588, 2589, 2593, 2594, 2595, 2596, 2597, 2598, 2599, 2600,\n",
       "        2601, 2605, 2606, 2608, 2610, 2611, 2612, 2613, 2614, 2622, 2626,\n",
       "        2629, 2632, 2633, 2634, 2635, 2636, 2637, 2638, 2643, 2648, 2652,\n",
       "        2661, 2670, 2673, 2674, 2676, 2677, 2678, 2680, 2690, 2691, 2702,\n",
       "        2703, 2705, 2706, 2707, 2708, 2709, 2713, 2714, 2715, 2726, 2740,\n",
       "        2741, 2742, 2743, 2744, 2745, 2746, 2747, 2748, 2752, 2753, 2765,\n",
       "        2768, 2769, 2774, 2777, 2785, 2786, 2787, 2810, 2813, 2814, 2830,\n",
       "        2831, 2865, 2868, 2872, 2875, 2876, 2877, 2878, 2879, 2880, 2881,\n",
       "        2883, 2885, 2888, 2889, 2890, 2892, 2899, 2900, 2903, 2904, 2908,\n",
       "        2912, 2914, 2915, 2919, 2921, 2922, 2927, 2928, 2936, 2938, 2939,\n",
       "        2940, 2941, 2947, 2954, 2956, 2957, 2958, 2959, 2960, 2961, 2962,\n",
       "        2963, 2964, 2965, 2966, 2967, 2968, 2969, 2970, 2971, 2972, 2982,\n",
       "        2983, 2984, 2986, 2988, 2989, 2990, 2991, 2992, 2993, 2999, 3004,\n",
       "        3005, 3006, 3010, 3011, 3012, 3020, 3025, 3030, 3038, 3040, 3041,\n",
       "        3042, 3043, 3049, 3050, 3057, 3058, 3066, 3068, 3069, 3070, 3071,\n",
       "        3072, 3088, 3090, 3093, 3109, 3113, 3114, 3115, 3118, 3130, 3145,\n",
       "        3148, 3149, 3168, 3170, 3173, 3181, 3183, 3185, 3204, 3216, 3225,\n",
       "        3233, 3237, 3238, 3239, 3241, 3257, 3265, 3266, 3267, 3276, 3278,\n",
       "        3291, 3292, 3303, 3306, 3307, 3308, 3312, 3315, 3319, 3323, 3324,\n",
       "        3325, 3326, 3327, 3328, 3329, 3334, 3337, 3338, 3339, 3341, 3345,\n",
       "        3349, 3350, 3351, 3352, 3353, 3354, 3356, 3357, 3358, 3359, 3360,\n",
       "        3379, 3380, 3383, 3384, 3387, 3389, 3396, 3399, 3401, 3413, 3414,\n",
       "        3419, 3420, 3425, 3426, 3427, 3428, 3429, 3430, 3433, 3435, 3442,\n",
       "        3443, 3444, 3448, 3449, 3452, 3460, 3469, 3472, 3473, 3474, 3475,\n",
       "        3476, 3477, 3478, 3488, 3489, 3515, 3516, 3523, 3524, 3538, 3539,\n",
       "        3540, 3566, 3577, 3613, 3614, 3622, 3623, 3646]),)"
      ]
     },
     "execution_count": 15,
     "metadata": {},
     "output_type": "execute_result"
    }
   ],
   "source": [
    "np.where(fpn['opsim_Filter_Changes_Per_Night_ONED'].metric_values.mask)"
   ]
  },
  {
   "cell_type": "code",
   "execution_count": null,
   "id": "2f258f62-4c24-429d-9ee4-319a645f0402",
   "metadata": {},
   "outputs": [],
   "source": []
  }
 ],
 "metadata": {
  "kernelspec": {
   "display_name": "Python 3 (ipykernel)",
   "language": "python",
   "name": "python3"
  },
  "language_info": {
   "codemirror_mode": {
    "name": "ipython",
    "version": 3
   },
   "file_extension": ".py",
   "mimetype": "text/x-python",
   "name": "python",
   "nbconvert_exporter": "python",
   "pygments_lexer": "ipython3",
   "version": "3.11.4"
  }
 },
 "nbformat": 4,
 "nbformat_minor": 5
}
