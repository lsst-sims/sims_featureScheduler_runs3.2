{
 "cells": [
  {
   "cell_type": "code",
   "execution_count": 1,
   "id": "59fa51dd-60e0-420b-983b-c525942b26b5",
   "metadata": {},
   "outputs": [],
   "source": [
    "# what are the planned gaps in DDFs?\n",
    "from baseline import ddf_surveys\n",
    "import rubin_sim.scheduler.detailers as detailers\n",
    "\n",
    "import numpy as np\n",
    "import matplotlib.pylab as plt\n",
    "%matplotlib inline"
   ]
  },
  {
   "cell_type": "code",
   "execution_count": 12,
   "id": "6afd421c-25b5-49fd-b2c9-9d6348419a2c",
   "metadata": {},
   "outputs": [
    {
     "name": "stdout",
     "output_type": "stream",
     "text": [
      "Optimizing ELAISS1\n",
      "Optimizing XMM_LSS\n",
      "Optimizing ECDFS\n",
      "Optimizing COSMOS\n",
      "Optimizing EDFS_a\n"
     ]
    }
   ],
   "source": [
    "ddf_season_frac = 0.1\n",
    "per_night = True\n",
    "max_dither = 0.7\n",
    "camera_ddf_rot_limit = 75.0  # degrees\n",
    "\n",
    "u_detailer = detailers.FilterNexp(filtername=\"u\", nexp=1)\n",
    "dither_detailer = detailers.DitherDetailer(\n",
    "    per_night=per_night, max_dither=max_dither\n",
    ")\n",
    "details = [\n",
    "        detailers.CameraRotDetailer(\n",
    "            min_rot=-camera_ddf_rot_limit, max_rot=camera_ddf_rot_limit\n",
    "        ),\n",
    "        dither_detailer,\n",
    "        u_detailer,\n",
    "        detailers.Rottep2RotspDesiredDetailer(),\n",
    "    ]\n",
    "euclid_detailers = [\n",
    "    detailers.CameraRotDetailer(\n",
    "        min_rot=-camera_ddf_rot_limit, max_rot=camera_ddf_rot_limit\n",
    "    ),\n",
    "    detailers.EuclidDitherDetailer(),\n",
    "    u_detailer,\n",
    "    detailers.Rottep2RotspDesiredDetailer(),\n",
    "]\n",
    "ddfs = ddf_surveys(\n",
    "        detailers=details,\n",
    "        season_unobs_frac=ddf_season_frac,\n",
    "        euclid_detailers=euclid_detailers,\n",
    "    )"
   ]
  },
  {
   "cell_type": "code",
   "execution_count": null,
   "id": "cf9af538-6e66-41f3-beeb-0a715563ef68",
   "metadata": {},
   "outputs": [],
   "source": []
  },
  {
   "cell_type": "code",
   "execution_count": 37,
   "id": "0b9352df-24df-4a9d-8607-890109c78e44",
   "metadata": {},
   "outputs": [
    {
     "data": {
      "text/plain": [
       "[<matplotlib.lines.Line2D at 0x29bdb3050>]"
      ]
     },
     "execution_count": 37,
     "metadata": {},
     "output_type": "execute_result"
    },
    {
     "data": {
      "image/png": "[encoded data removed]",
      "text/plain": [
       "<Figure size 640x480 with 1 Axes>"
      ]
     },
     "metadata": {},
     "output_type": "display_data"
    }
   ],
   "source": [
    "plt.plot(np.diff(np.unique(ddfs[0].scheduled_obs)))"
   ]
  },
  {
   "cell_type": "code",
   "execution_count": 18,
   "id": "6c69d47f-dd2e-414e-ae70-6eab6d417372",
   "metadata": {},
   "outputs": [
    {
     "data": {
      "text/plain": [
       "<ScriptedSurvey survey_name='' at 0x29b8bd510>"
      ]
     },
     "execution_count": 18,
     "metadata": {},
     "output_type": "execute_result"
    }
   ],
   "source": [
    "ddfs[0]"
   ]
  },
  {
   "cell_type": "code",
   "execution_count": 22,
   "id": "78a621aa-da2e-40cd-9a3a-f8efa6444ebd",
   "metadata": {},
   "outputs": [
    {
     "data": {
      "text/plain": [
       "[<ScriptedSurvey survey_name='' at 0x2b22fd150>,\n",
       " <ScriptedSurvey survey_name='' at 0x29b8bd510>]"
      ]
     },
     "execution_count": 22,
     "metadata": {},
     "output_type": "execute_result"
    }
   ],
   "source": [
    "ddfs"
   ]
  },
  {
   "cell_type": "code",
   "execution_count": 14,
   "id": "9df7c37b-7c21-416e-b920-1fdd541c171b",
   "metadata": {},
   "outputs": [],
   "source": [
    "indx = np.where(ddfs[0].obs_wanted['note'] == 'DD:ELAISS1')[0]"
   ]
  },
  {
   "cell_type": "code",
   "execution_count": 15,
   "id": "69ce3af1-1af8-4239-9e59-c8decb1bbc08",
   "metadata": {},
   "outputs": [
    {
     "data": {
      "text/plain": [
       "array([13.,  1.,  4.,  6.,  6., 14.,  1.,  2., 64., 25.,  7., 10., 10.,\n",
       "        9., 10., 11.,  8., 10., 11.,  9.,  9., 10., 10., 10.,  9., 10.,\n",
       "       10., 10.,  9., 10., 10., 10.,  9., 10., 10.,  9., 12.,  8., 67.,\n",
       "       25., 10., 10., 10.,  9., 10., 10.,  9., 10., 10., 10.,  9., 10.,\n",
       "       10., 10.,  9., 10., 10., 10.,  9., 10., 10., 10.,  9., 10., 10.,\n",
       "       10.,  9., 87.,  1., 14., 10., 10., 10.,  9., 10., 10.,  9., 10.,\n",
       "       10., 10.,  9., 10., 10., 10.,  9., 10., 10., 10.,  9., 10., 10.,\n",
       "       10.,  9., 10., 10.,  9., 10., 11., 67., 25.,  9., 10., 10.,  9.,\n",
       "       10., 10., 10., 10.,  9., 10., 10., 10.,  9., 10., 10., 10.,  9.,\n",
       "       10., 10., 10.,  9., 10., 10., 10., 10., 18.,  1., 10., 66., 26.,\n",
       "       10., 10., 10.,  9., 10., 10.,  9., 10., 10., 10.,  9., 10., 10.,\n",
       "       10.,  9., 10., 10., 10.,  9., 10., 10., 10.,  9., 10., 18.,  1.,\n",
       "       10., 83.,  1., 24.,  4., 10., 14.,  5., 10., 10.,  9., 10., 10.,\n",
       "       10.,  9., 10., 10., 10., 13.,  6., 10., 13.,  6., 10., 10., 10.,\n",
       "        9., 16.,  4.,  9., 19.,  1., 67., 25., 10., 14.,  6.,  9., 13.,\n",
       "        7.,  9., 10., 10., 10.,  9., 10., 10., 13.,  6., 10., 13.,  7.,\n",
       "        9., 13.,  7., 10., 14.,  5., 10., 16.,  3., 10., 67., 25., 14.,\n",
       "        6., 10., 12.,  7., 10., 13.,  7.,  9., 13.,  7., 10., 11.,  8.,\n",
       "       10., 11.,  8., 10., 11.,  9.,  9., 12.,  8., 10., 14.,  5., 10.,\n",
       "       15., 66., 25.,  6., 10., 11.,  8., 10., 11.,  8., 10., 12.,  8.,\n",
       "        9., 11.,  9., 10., 10.,  9., 10., 10.,  9., 10., 11.,  9.,  9.,\n",
       "       12.,  8.,  9., 14.,  6., 67., 32., 24., 24., 25., 22., 24., 24.,\n",
       "       23., 24., 28.])"
      ]
     },
     "execution_count": 15,
     "metadata": {},
     "output_type": "execute_result"
    }
   ],
   "source": [
    "np.diff(np.round(np.unique(ddfs[0].scheduled_obs[indx])))"
   ]
  },
  {
   "cell_type": "code",
   "execution_count": 33,
   "id": "aebced76-f244-41ec-a863-80c272e38f45",
   "metadata": {},
   "outputs": [
    {
     "data": {
      "text/plain": [
       "array([  2.,   3.,   1.,   8.,   1.,   1.,   1.,   1.,   1., 150.,   7.,\n",
       "         8.,  10.,   4.,   8.,   7.,  10.,   5.,   7.,   7.,   9.,   6.,\n",
       "         7.,   7.,   9.,   6.,   7.,   8.,   8.,   6.,   7.,   8.,   8.,\n",
       "         6.,   8.,   7.,   9.,   6.,   7., 153.,   7.,   8.,   7.,   8.,\n",
       "         7.,   7.,   7.,   8.,   7.,   8.,   7.,   7.,   7.,   8.,   7.,\n",
       "         8.,   7.,   7.,   7.,   8.,   7.,   8.,   7.,   7.,   7.,   8.,\n",
       "         7.,   8.,  13., 149.,   5.,   8.,   7.,  10.,   5.,   7.,   7.,\n",
       "        10.,   5.,   7.,   7.,   9.,   6.,   7.,   8.,   8.,   6.,   8.,\n",
       "         7.,   8.,   6.,   8.,   7.,   9.,   6.,   7.,   7.,  10.,   5.,\n",
       "       153.,   7.,   8.,   7.,   7.,   8.,   7.,   7.,   8.,   7.,   7.,\n",
       "         7.,   8.,   7.,   7.,   8.,   7.,   7.,   8.,   7.,   7.,   7.,\n",
       "         8.,   7.,   7.,   8.,   7.,   7.,   8.,   7., 153.,   9.,   6.,\n",
       "         7.,   7.,  10.,   5.,   7.,   8.,  10.,   4.,   7.,   8.,   9.,\n",
       "         5.,   8.,   7.,   9.,   6.,   7.,   7.,   9.,   6.,   7.,   7.,\n",
       "        11.,   4.,   7.,   8.,  12., 148.,   7.,   8.,   7.,   8.,   7.,\n",
       "         7.,   7.,   8.,   7.,   8.,   7.,   7.,   7.,   8.,   7.,   8.,\n",
       "         7.,   7.,   7.,   8.,   7.,   8.,   7.,   7.,   7.,   8.,   7.,\n",
       "         8.,   7., 153.,   7.,   9.,   6.,   7.,   8.,   9.,   5.,   8.,\n",
       "         7.,   9.,   5.,   8.,   7.,   9.,   6.,   7.,   7.,   9.,   6.,\n",
       "         7.,   7.,   9.,   6.,   7.,   8.,  10.,   4.,   8.,   7., 153.,\n",
       "         7.,   8.,   7.,   7.,   8.,   7.,   7.,   8.,   7.,   7.,   7.,\n",
       "         8.,   7.,   7.,   8.,   7.,   7.,   8.,   7.,   7.,   7.,   8.,\n",
       "         7.,   7.,   8.,   7.,   7.,  16.,   1., 151.,   7.,   8.,  10.,\n",
       "         4.,   8.,   7.,  11.,   4.,   7.,   7.,  10.,   5.,   7.,   7.,\n",
       "        10.,   5.,   7.,   8.,   9.,   5.,   7.,   8.,  10.,   4.,   8.,\n",
       "         7.,  11.,   4.,   7., 160.,  20.,  20.,  20.,  20.,  20.,  24.,\n",
       "        16.,  20.,  23.])"
      ]
     },
     "execution_count": 33,
     "metadata": {},
     "output_type": "execute_result"
    }
   ],
   "source": [
    "np.diff(np.round(np.unique(ddfs[0].scheduled_obs[indx])))"
   ]
  },
  {
   "cell_type": "code",
   "execution_count": 3,
   "id": "ffefaf9a-2864-43ca-93d0-94698a833ca6",
   "metadata": {},
   "outputs": [
    {
     "data": {
      "text/plain": [
       "array(['DD:COSMOS', 'DD:ECDFS', 'DD:ELAISS1', 'DD:XMM_LSS'], dtype='<U40')"
      ]
     },
     "execution_count": 3,
     "metadata": {},
     "output_type": "execute_result"
    }
   ],
   "source": [
    "np.unique(ddfs[0].obs_wanted['note'])"
   ]
  },
  {
   "cell_type": "code",
   "execution_count": null,
   "id": "f2f9fe6d-ecb1-4872-9942-ad6c457b13cf",
   "metadata": {},
   "outputs": [],
   "source": []
  }
 ],
 "metadata": {
  "kernelspec": {
   "display_name": "Python 3 (ipykernel)",
   "language": "python",
   "name": "python3"
  },
  "language_info": {
   "codemirror_mode": {
    "name": "ipython",
    "version": 3
   },
   "file_extension": ".py",
   "mimetype": "text/x-python",
   "name": "python",
   "nbconvert_exporter": "python",
   "pygments_lexer": "ipython3",
   "version": "3.11.5"
  }
 },
 "nbformat": 4,
 "nbformat_minor": 5
}
