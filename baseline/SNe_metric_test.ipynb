{
 "cells": [
  {
   "cell_type": "code",
   "execution_count": 1,
   "id": "40af115f",
   "metadata": {},
   "outputs": [],
   "source": [
    "# Check to see if the SNe metric behaves as expected generally\n",
    "import numpy as np\n",
    "import matplotlib.pylab as plt\n",
    "%matplotlib inline\n",
    "import rubin_sim.maf as maf\n",
    "from rubin_sim.utils import ddf_locations"
   ]
  },
  {
   "cell_type": "code",
   "execution_count": 2,
   "id": "a752cf9f",
   "metadata": {},
   "outputs": [],
   "source": [
    "# let's pull an array out of a sim at the center of a DDF\n",
    "locations = ddf_locations()"
   ]
  },
  {
   "cell_type": "code",
   "execution_count": 3,
   "id": "bbdb9568",
   "metadata": {},
   "outputs": [
    {
     "name": "stdout",
     "output_type": "stream",
     "text": [
      "Loading  /Users/yoachim/rubin_sim_data/maf/SNe_data/LC_-2.0_0.2_380.0_800.0_ebvofMW_0.0_vstack.hdf5 g 20774 799 26\n"
     ]
    },
    {
     "name": "stderr",
     "output_type": "stream",
     "text": [
      "/Users/yoachim/anaconda3/envs/rubin2/lib/python3.11/site-packages/numpy/core/fromnumeric.py:784: UserWarning: Warning: 'partition' will ignore the 'mask' of the MaskedArray.\n",
      "  a.partition(kth, axis=axis, kind=kind, order=order)\n"
     ]
    },
    {
     "name": "stdout",
     "output_type": "stream",
     "text": [
      "Loading  /Users/yoachim/rubin_sim_data/maf/SNe_data/LC_-2.0_0.2_380.0_800.0_ebvofMW_0.0_vstack.hdf5 i 78302 799 98\n",
      "Loading  /Users/yoachim/rubin_sim_data/maf/SNe_data/LC_-2.0_0.2_380.0_800.0_ebvofMW_0.0_vstack.hdf5 r 50337 799 63\n",
      "Loading  /Users/yoachim/rubin_sim_data/maf/SNe_data/LC_-2.0_0.2_380.0_800.0_ebvofMW_0.0_vstack.hdf5 y 63121 799 79\n",
      "Loading  /Users/yoachim/rubin_sim_data/maf/SNe_data/LC_-2.0_0.2_380.0_800.0_ebvofMW_0.0_vstack.hdf5 z 73508 799 92\n",
      "Loading  /Users/yoachim/rubin_sim_data/maf/SNe_data/LC_0.0_0.0_380.0_800.0_ebvofMW_0.0_vstack.hdf5 g 20774 799 26\n"
     ]
    },
    {
     "name": "stderr",
     "output_type": "stream",
     "text": [
      "/Users/yoachim/anaconda3/envs/rubin2/lib/python3.11/site-packages/numpy/core/fromnumeric.py:784: UserWarning: Warning: 'partition' will ignore the 'mask' of the MaskedArray.\n",
      "  a.partition(kth, axis=axis, kind=kind, order=order)\n"
     ]
    },
    {
     "name": "stdout",
     "output_type": "stream",
     "text": [
      "Loading  /Users/yoachim/rubin_sim_data/maf/SNe_data/LC_0.0_0.0_380.0_800.0_ebvofMW_0.0_vstack.hdf5 i 78302 799 98\n",
      "Loading  /Users/yoachim/rubin_sim_data/maf/SNe_data/LC_0.0_0.0_380.0_800.0_ebvofMW_0.0_vstack.hdf5 r 50337 799 63\n",
      "Loading  /Users/yoachim/rubin_sim_data/maf/SNe_data/LC_0.0_0.0_380.0_800.0_ebvofMW_0.0_vstack.hdf5 y 78302 799 98\n",
      "Loading  /Users/yoachim/rubin_sim_data/maf/SNe_data/LC_0.0_0.0_380.0_800.0_ebvofMW_0.0_vstack.hdf5 z 88689 799 111\n"
     ]
    }
   ],
   "source": [
    "\n",
    "fieldname = 'ELAISS1'#'XMM_LSS'\n",
    "\n",
    "# set up the metric like in the ddf batch\n",
    "metric = maf.metrics.SNNSNMetric(\n",
    "            verbose=False,\n",
    "            n_bef=4,\n",
    "            n_aft=10,\n",
    "            zmin=0.1,\n",
    "            zmax=1.1,\n",
    "            z_step=0.03,\n",
    "            daymax_step=3,\n",
    "            coadd_night=True,\n",
    "            gamma_name=\"gamma_DDF.hdf5\",\n",
    "            metric_name=f\"SNNSNMetric {fieldname}\",  \n",
    "        )"
   ]
  },
  {
   "cell_type": "code",
   "execution_count": 4,
   "id": "0656304a",
   "metadata": {},
   "outputs": [
    {
     "data": {
      "text/plain": [
       "{'ELAISS1': (9.45, -44.0),\n",
       " 'XMM_LSS': (35.708333, -4.75),\n",
       " 'ECDFS': (53.125, -28.1),\n",
       " 'COSMOS': (150.1, 2.1819444444444445),\n",
       " 'EDFS_a': (58.9, -49.315),\n",
       " 'EDFS_b': (63.6, -47.6)}"
      ]
     },
     "execution_count": 4,
     "metadata": {},
     "output_type": "execute_result"
    }
   ],
   "source": [
    "locations"
   ]
  },
  {
   "cell_type": "code",
   "execution_count": 5,
   "id": "a0d51d4a",
   "metadata": {},
   "outputs": [],
   "source": [
    "db_file = 'baseline_v3.2_10yrs.db'\n",
    "pm = maf.PassMetric(cols=list(metric.col_registry.col_set))\n",
    "slicer = maf.UserPointsSlicer(ra=locations[fieldname][0], dec=locations[fieldname][1])\n",
    "\n",
    "bl = [maf.MetricBundle(pm, slicer, '')]\n",
    "\n",
    "bd = maf.make_bundles_dict_from_list(bl)\n",
    "mbg = maf.MetricBundleGroup(bd, db_file, out_dir='temp')\n",
    "\n"
   ]
  },
  {
   "cell_type": "code",
   "execution_count": 6,
   "id": "02ed732f",
   "metadata": {},
   "outputs": [],
   "source": [
    "mbg.run_all()"
   ]
  },
  {
   "cell_type": "code",
   "execution_count": 7,
   "id": "8355d0a1",
   "metadata": {},
   "outputs": [
    {
     "data": {
      "text/plain": [
       "rec.array([(2, 30., 1229,  751698, -45.88962701, 62025.23950707, 337.37309825, 24.40678884, 'g', 34.,  9.05371607, 'pair_33, gr, b'),\n",
       "           (2, 30., 1229,  751648, -45.88962701, 62025.21459544, 337.37309825, 24.30498447, 'r', 34.,  9.05371607, 'pair_33, gr, a'),\n",
       "           (2, 30., 2712, 1595328, -45.75525508, 63508.02660032,  52.59015367, 23.760444  , 'g', 34., 10.25189928, 'blob_long, gr, a'),\n",
       "           ...,\n",
       "           (2, 30., 1974, 1157868, -42.77683886, 62770.22362951, 336.3101723 , 23.48992315, 'i', 34., 10.00759702, 'pair_33, ri, b'),\n",
       "           (2, 30.,  508,  322310, -42.27996936, 61304.12965793,  88.935857  , 22.08158293, 'y', 34., 10.49456154, 'pair_33, zy, b'),\n",
       "           (2, 30., 1601,  955355, -42.85298055, 62397.3483844 , 235.09387437, 23.40688217, 'i', 34., 11.05113121, 'pair_33, ri, b')],\n",
       "          dtype=[('numExposures', '<i8'), ('visitExposureTime', '<f8'), ('night', '<i8'), ('observationId', '<i8'), ('fieldDec', '<f8'), ('observationStartMJD', '<f8'), ('rotSkyPos', '<f8'), ('fiveSigmaDepth', '<f8'), ('filter', 'O'), ('visitTime', '<f8'), ('fieldRA', '<f8'), ('note', 'O')])"
      ]
     },
     "execution_count": 7,
     "metadata": {},
     "output_type": "execute_result"
    }
   ],
   "source": [
    "data = bl[0].metric_values[0]\n",
    "data"
   ]
  },
  {
   "cell_type": "code",
   "execution_count": 8,
   "id": "651e700c",
   "metadata": {},
   "outputs": [
    {
     "data": {
      "text/plain": [
       "(22149,)"
      ]
     },
     "execution_count": 8,
     "metadata": {},
     "output_type": "execute_result"
    }
   ],
   "source": [
    "data.shape"
   ]
  },
  {
   "cell_type": "code",
   "execution_count": 9,
   "id": "e7d1f2e3",
   "metadata": {},
   "outputs": [],
   "source": [
    "# say there is no extinction, set nside to something reasonable\n",
    "slice_point = {\"ebv\": 0, \"nside\": 128}"
   ]
  },
  {
   "cell_type": "code",
   "execution_count": 10,
   "id": "c650724f",
   "metadata": {},
   "outputs": [
    {
     "data": {
      "text/plain": [
       "rec.array([(19.050175, 0.5789245)],\n",
       "          dtype=[('n_sn', '<f8'), ('zlim', '<f8')])"
      ]
     },
     "execution_count": 10,
     "metadata": {},
     "output_type": "execute_result"
    }
   ],
   "source": [
    "# Running on all data at that point\n",
    "metric.run(data, slice_point=slice_point)"
   ]
  },
  {
   "cell_type": "code",
   "execution_count": 11,
   "id": "1e324600",
   "metadata": {},
   "outputs": [
    {
     "data": {
      "text/plain": [
       "rec.array([(2.238561, 0.591433)],\n",
       "          dtype=[('n_sn', '<f8'), ('zlim', '<f8')])"
      ]
     },
     "execution_count": 11,
     "metadata": {},
     "output_type": "execute_result"
    }
   ],
   "source": [
    "# only on first year\n",
    "sub = np.where(data['night'] < 365)[0]\n",
    "metric.run(data[sub], slice_point=slice_point)"
   ]
  },
  {
   "cell_type": "code",
   "execution_count": 12,
   "id": "1fdae0a0",
   "metadata": {},
   "outputs": [
    {
     "data": {
      "text/plain": [
       "rec.array([(13.678923, 0.5231555)],\n",
       "          dtype=[('n_sn', '<f8'), ('zlim', '<f8')])"
      ]
     },
     "execution_count": 12,
     "metadata": {},
     "output_type": "execute_result"
    }
   ],
   "source": [
    "# remove z band\n",
    "sub = np.where(data['filter'] != 'z')[0]\n",
    "metric.run(data[sub], slice_point=slice_point)"
   ]
  },
  {
   "cell_type": "code",
   "execution_count": 13,
   "id": "ff376f58",
   "metadata": {},
   "outputs": [
    {
     "data": {
      "text/plain": [
       "rec.array([(16.92836, 0.5693085)],\n",
       "          dtype=[('n_sn', '<f8'), ('zlim', '<f8')])"
      ]
     },
     "execution_count": 13,
     "metadata": {},
     "output_type": "execute_result"
    }
   ],
   "source": [
    "# remove y band\n",
    "sub = np.where(data['filter'] != 'y')[0]\n",
    "metric.run(data[sub], slice_point=slice_point)"
   ]
  },
  {
   "cell_type": "code",
   "execution_count": 14,
   "id": "32f939e5",
   "metadata": {},
   "outputs": [
    {
     "data": {
      "text/plain": [
       "rec.array([(12.682124, 0.5136365)],\n",
       "          dtype=[('n_sn', '<f8'), ('zlim', '<f8')])"
      ]
     },
     "execution_count": 14,
     "metadata": {},
     "output_type": "execute_result"
    }
   ],
   "source": [
    "# only use half the data\n",
    "metric.run(data[::2], slice_point=slice_point)"
   ]
  },
  {
   "cell_type": "code",
   "execution_count": 15,
   "id": "7509899e",
   "metadata": {},
   "outputs": [
    {
     "data": {
      "text/plain": [
       "rec.array([(12.045127, 0.4990925)],\n",
       "          dtype=[('n_sn', '<f8'), ('zlim', '<f8')])"
      ]
     },
     "execution_count": 15,
     "metadata": {},
     "output_type": "execute_result"
    }
   ],
   "source": [
    "# make it less deep by changing 5-sigma depth\n",
    "mock_data = data.copy()\n",
    "mock_data['fiveSigmaDepth'] -= 0.5\n",
    "metric.run(mock_data, slice_point=slice_point)"
   ]
  },
  {
   "cell_type": "code",
   "execution_count": 16,
   "id": "ab4f94d1",
   "metadata": {},
   "outputs": [
    {
     "data": {
      "text/plain": [
       "rec.array([(21.424719, 0.5978985)],\n",
       "          dtype=[('n_sn', '<f8'), ('zlim', '<f8')])"
      ]
     },
     "execution_count": 16,
     "metadata": {},
     "output_type": "execute_result"
    }
   ],
   "source": [
    "# make each visit deeper\n",
    "mock_data = data.copy()\n",
    "mock_data['fiveSigmaDepth'] += 0.5\n",
    "metric.run(mock_data, slice_point=slice_point)"
   ]
  },
  {
   "cell_type": "code",
   "execution_count": 17,
   "id": "ddc3a49b",
   "metadata": {},
   "outputs": [
    {
     "data": {
      "text/plain": [
       "rec.array([(19.050175, 0.5789245)],\n",
       "          dtype=[('n_sn', '<f8'), ('zlim', '<f8')])"
      ]
     },
     "execution_count": 17,
     "metadata": {},
     "output_type": "execute_result"
    }
   ],
   "source": [
    "# no short visits\n",
    "sub = np.where(data['visitExposureTime'] > 20)[0]\n",
    "metric.run(data[sub], slice_point=slice_point)"
   ]
  },
  {
   "cell_type": "code",
   "execution_count": 18,
   "id": "d3ac5cbe",
   "metadata": {},
   "outputs": [
    {
     "data": {
      "text/plain": [
       "-666"
      ]
     },
     "execution_count": 18,
     "metadata": {},
     "output_type": "execute_result"
    }
   ],
   "source": [
    "# cut exposure time in half.  Looks like exposure time is only used for computing coadds in a night.\n",
    "mock_data = data.copy()\n",
    "mock_data['visitExposureTime'] = mock_data['visitExposureTime']/2.\n",
    "metric.run(mock_data, slice_point=slice_point)"
   ]
  },
  {
   "cell_type": "code",
   "execution_count": null,
   "id": "8544250e",
   "metadata": {},
   "outputs": [],
   "source": []
  }
 ],
 "metadata": {
  "kernelspec": {
   "display_name": "Python 3 (ipykernel)",
   "language": "python",
   "name": "python3"
  },
  "language_info": {
   "codemirror_mode": {
    "name": "ipython",
    "version": 3
   },
   "file_extension": ".py",
   "mimetype": "text/x-python",
   "name": "python",
   "nbconvert_exporter": "python",
   "pygments_lexer": "ipython3",
   "version": "3.11.3"
  }
 },
 "nbformat": 4,
 "nbformat_minor": 5
}
