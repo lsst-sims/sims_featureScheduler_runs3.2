{
 "cells": [
  {
   "cell_type": "code",
   "execution_count": 1,
   "id": "1b69d5e5",
   "metadata": {},
   "outputs": [],
   "source": [
    "import numpy as np\n",
    "import pandas as pd\n",
    "import sqlite3\n"
   ]
  },
  {
   "cell_type": "code",
   "execution_count": 2,
   "id": "c95935dd",
   "metadata": {},
   "outputs": [
    {
     "data": {
      "text/plain": [
       "244"
      ]
     },
     "execution_count": 2,
     "metadata": {},
     "output_type": "execute_result"
    }
   ],
   "source": [
    "con = sqlite3.connect('baseline_v3.2_10yrs.db')\n",
    "df = pd.read_sql('select filter,night,note,observationStartMJD from observations;', con)\n",
    "count = 0\n",
    "notes = []\n",
    "for i in np.arange(np.size(df['filter'])-2):\n",
    "    if np.size(np.unique(df['night'].values[i:i+3])) == 1:\n",
    "        if (df['observationStartMJD'][i+2]-df['observationStartMJD'][i]) < (0.5/24.):\n",
    "            if df['filter'].values[i] != df['filter'].values[i+1]:\n",
    "                if df['filter'].values[i+1] != df['filter'].values[i+2]:\n",
    "                    count += 1\n",
    "                    notes.append([df['note'].values[i:i+3]])\n",
    "count"
   ]
  },
  {
   "cell_type": "code",
   "execution_count": 3,
   "id": "2641b22d",
   "metadata": {},
   "outputs": [
    {
     "data": {
      "text/plain": [
       "63"
      ]
     },
     "execution_count": 3,
     "metadata": {},
     "output_type": "execute_result"
    }
   ],
   "source": [
    "con = sqlite3.connect('baseline_v3.3_10yrs.db')\n",
    "df = pd.read_sql('select filter,night,note,observationStartMJD from observations;', con)\n",
    "count = 0\n",
    "notes = []\n",
    "for i in np.arange(np.size(df['filter'])-2):\n",
    "    if np.size(np.unique(df['night'].values[i:i+3])) == 1:\n",
    "        if (df['observationStartMJD'][i+2]-df['observationStartMJD'][i]) < (0.5/24.):\n",
    "            if df['filter'].values[i] != df['filter'].values[i+1]:\n",
    "                if df['filter'].values[i+1] != df['filter'].values[i+2]:\n",
    "                    count += 1\n",
    "                    notes.append([df['note'].values[i:i+3]])\n",
    "count"
   ]
  },
  {
   "cell_type": "code",
   "execution_count": null,
   "id": "0f53ee40",
   "metadata": {},
   "outputs": [],
   "source": []
  },
  {
   "cell_type": "code",
   "execution_count": 5,
   "id": "a30795b5",
   "metadata": {},
   "outputs": [],
   "source": []
  },
  {
   "cell_type": "code",
   "execution_count": null,
   "id": "a545945f",
   "metadata": {},
   "outputs": [],
   "source": []
  },
  {
   "cell_type": "code",
   "execution_count": null,
   "id": "e0c8547f",
   "metadata": {},
   "outputs": [],
   "source": []
  },
  {
   "cell_type": "code",
   "execution_count": null,
   "id": "e64a51d3",
   "metadata": {},
   "outputs": [],
   "source": []
  },
  {
   "cell_type": "code",
   "execution_count": null,
   "id": "d7063715",
   "metadata": {},
   "outputs": [],
   "source": []
  },
  {
   "cell_type": "code",
   "execution_count": null,
   "id": "c70eca9e",
   "metadata": {},
   "outputs": [],
   "source": []
  }
 ],
 "metadata": {
  "kernelspec": {
   "display_name": "Python 3 (ipykernel)",
   "language": "python",
   "name": "python3"
  },
  "language_info": {
   "codemirror_mode": {
    "name": "ipython",
    "version": 3
   },
   "file_extension": ".py",
   "mimetype": "text/x-python",
   "name": "python",
   "nbconvert_exporter": "python",
   "pygments_lexer": "ipython3",
   "version": "3.11.5"
  }
 },
 "nbformat": 4,
 "nbformat_minor": 5
}
