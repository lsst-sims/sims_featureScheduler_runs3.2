{
 "cells": [
  {
   "cell_type": "code",
   "execution_count": 1,
   "id": "40af115f",
   "metadata": {},
   "outputs": [],
   "source": [
    "# Check to see if the SNe metric behaves as expected generally\n",
    "import numpy as np\n",
    "import matplotlib.pylab as plt\n",
    "%matplotlib inline\n",
    "import rubin_sim.maf as maf\n",
    "from rubin_sim.utils import ddf_locations"
   ]
  },
  {
   "cell_type": "code",
   "execution_count": 2,
   "id": "a752cf9f",
   "metadata": {},
   "outputs": [],
   "source": [
    "# let's pull an array out of a sim at the center of a DDF\n",
    "locations = ddf_locations()"
   ]
  },
  {
   "cell_type": "code",
   "execution_count": 3,
   "id": "bbdb9568",
   "metadata": {},
   "outputs": [
    {
     "name": "stdout",
     "output_type": "stream",
     "text": [
      "Loading  /Users/yoachim/rubin_sim_data/maf/SNe_data/LC_-2.0_0.2_380.0_800.0_ebvofMW_0.0_vstack.hdf5 g 20774 799 26\n"
     ]
    },
    {
     "name": "stderr",
     "output_type": "stream",
     "text": [
      "/Users/yoachim/anaconda3/envs/rubin2/lib/python3.11/site-packages/numpy/core/fromnumeric.py:784: UserWarning: Warning: 'partition' will ignore the 'mask' of the MaskedArray.\n",
      "  a.partition(kth, axis=axis, kind=kind, order=order)\n"
     ]
    },
    {
     "name": "stdout",
     "output_type": "stream",
     "text": [
      "Loading  /Users/yoachim/rubin_sim_data/maf/SNe_data/LC_-2.0_0.2_380.0_800.0_ebvofMW_0.0_vstack.hdf5 i 78302 799 98\n",
      "Loading  /Users/yoachim/rubin_sim_data/maf/SNe_data/LC_-2.0_0.2_380.0_800.0_ebvofMW_0.0_vstack.hdf5 r 50337 799 63\n",
      "Loading  /Users/yoachim/rubin_sim_data/maf/SNe_data/LC_-2.0_0.2_380.0_800.0_ebvofMW_0.0_vstack.hdf5 y 63121 799 79\n",
      "Loading  /Users/yoachim/rubin_sim_data/maf/SNe_data/LC_-2.0_0.2_380.0_800.0_ebvofMW_0.0_vstack.hdf5 z 73508 799 92\n",
      "Loading  /Users/yoachim/rubin_sim_data/maf/SNe_data/LC_0.0_0.0_380.0_800.0_ebvofMW_0.0_vstack.hdf5 g 20774 799 26\n"
     ]
    },
    {
     "name": "stderr",
     "output_type": "stream",
     "text": [
      "/Users/yoachim/anaconda3/envs/rubin2/lib/python3.11/site-packages/numpy/core/fromnumeric.py:784: UserWarning: Warning: 'partition' will ignore the 'mask' of the MaskedArray.\n",
      "  a.partition(kth, axis=axis, kind=kind, order=order)\n"
     ]
    },
    {
     "name": "stdout",
     "output_type": "stream",
     "text": [
      "Loading  /Users/yoachim/rubin_sim_data/maf/SNe_data/LC_0.0_0.0_380.0_800.0_ebvofMW_0.0_vstack.hdf5 i 78302 799 98\n",
      "Loading  /Users/yoachim/rubin_sim_data/maf/SNe_data/LC_0.0_0.0_380.0_800.0_ebvofMW_0.0_vstack.hdf5 r 50337 799 63\n",
      "Loading  /Users/yoachim/rubin_sim_data/maf/SNe_data/LC_0.0_0.0_380.0_800.0_ebvofMW_0.0_vstack.hdf5 y 78302 799 98\n",
      "Loading  /Users/yoachim/rubin_sim_data/maf/SNe_data/LC_0.0_0.0_380.0_800.0_ebvofMW_0.0_vstack.hdf5 z 88689 799 111\n"
     ]
    }
   ],
   "source": [
    "\n",
    "fieldname = 'XMM_LSS'\n",
    "\n",
    "# set up the metric like in the ddf batch\n",
    "metric = maf.metrics.SNNSNMetric(\n",
    "            verbose=False,\n",
    "            n_bef=4,\n",
    "            n_aft=10,\n",
    "            zmin=0.1,\n",
    "            zmax=1.1,\n",
    "            z_step=0.03,\n",
    "            daymax_step=3,\n",
    "            coadd_night=True,\n",
    "            gamma_name=\"gamma_DDF.hdf5\",\n",
    "            metric_name=f\"SNNSNMetric {fieldname}\",  \n",
    "        )"
   ]
  },
  {
   "cell_type": "code",
   "execution_count": 4,
   "id": "0656304a",
   "metadata": {},
   "outputs": [
    {
     "data": {
      "text/plain": [
       "{'ELAISS1': (9.45, -44.0),\n",
       " 'XMM_LSS': (35.708333, -4.75),\n",
       " 'ECDFS': (53.125, -28.1),\n",
       " 'COSMOS': (150.1, 2.1819444444444445),\n",
       " 'EDFS_a': (58.9, -49.315),\n",
       " 'EDFS_b': (63.6, -47.6)}"
      ]
     },
     "execution_count": 4,
     "metadata": {},
     "output_type": "execute_result"
    }
   ],
   "source": [
    "locations"
   ]
  },
  {
   "cell_type": "code",
   "execution_count": 5,
   "id": "a0d51d4a",
   "metadata": {},
   "outputs": [],
   "source": [
    "db_file = 'filter_u_z_v3.1_10yrs.db'\n",
    "pm = maf.PassMetric(cols=list(metric.col_registry.col_set))\n",
    "slicer = maf.UserPointsSlicer(ra=locations[fieldname][0], dec=locations[fieldname][1])\n",
    "\n",
    "bl = [maf.MetricBundle(pm, slicer, '')]\n",
    "\n",
    "bd = maf.make_bundles_dict_from_list(bl)\n",
    "mbg = maf.MetricBundleGroup(bd, db_file, out_dir='temp')\n",
    "\n"
   ]
  },
  {
   "cell_type": "code",
   "execution_count": 6,
   "id": "02ed732f",
   "metadata": {},
   "outputs": [],
   "source": [
    "mbg.run_all()"
   ]
  },
  {
   "cell_type": "code",
   "execution_count": 7,
   "id": "8355d0a1",
   "metadata": {},
   "outputs": [
    {
     "data": {
      "text/plain": [
       "rec.array([(119.69963092, 31., 'blob, ur, a', 'u', 63574.06517004, 35.74467266, 2778, 23.17999425, 1625439, 30., -6.55073969, 1),\n",
       "           (119.69963092, 34., 'blob, ur, b', 'r', 63574.08842769, 35.74467266, 2778, 23.79377831, 1625489, 30., -6.55073969, 2),\n",
       "           (297.59152245, 34., 'blob, iz, a', 'i', 63584.14722317, 35.70833681, 2788, 22.88622862, 1628522, 30., -6.14632095, 2),\n",
       "           ...,\n",
       "           (165.51431521, 34., 'blob_twi, ri, a', 'r', 64339.04254313, 35.77534995, 3543, 23.94367192, 2037158, 30., -3.86702027, 2),\n",
       "           (185.07436342, 34., 'blob, ur, a', 'r', 63922.13780592, 35.89900124, 3126, 23.73450399, 1800872, 30., -3.2001355 , 2),\n",
       "           (185.07436342, 31., 'blob, ur, b', 'u', 63922.16318696, 35.89900124, 3126, 23.44797488, 1800927, 30., -3.2001355 , 1)],\n",
       "          dtype=[('rotSkyPos', '<f8'), ('visitTime', '<f8'), ('note', 'O'), ('filter', 'O'), ('observationStartMJD', '<f8'), ('fieldRA', '<f8'), ('night', '<i8'), ('fiveSigmaDepth', '<f8'), ('observationId', '<i8'), ('visitExposureTime', '<f8'), ('fieldDec', '<f8'), ('numExposures', '<i8')])"
      ]
     },
     "execution_count": 7,
     "metadata": {},
     "output_type": "execute_result"
    }
   ],
   "source": [
    "data = bl[0].metric_values[0]\n",
    "data"
   ]
  },
  {
   "cell_type": "code",
   "execution_count": 8,
   "id": "651e700c",
   "metadata": {},
   "outputs": [
    {
     "data": {
      "text/plain": [
       "(21079,)"
      ]
     },
     "execution_count": 8,
     "metadata": {},
     "output_type": "execute_result"
    }
   ],
   "source": [
    "data.shape"
   ]
  },
  {
   "cell_type": "code",
   "execution_count": 9,
   "id": "e7d1f2e3",
   "metadata": {},
   "outputs": [],
   "source": [
    "# say there is no extinction, set nside to something reasonable\n",
    "slice_point = {\"ebv\": 0, \"nside\": 256}"
   ]
  },
  {
   "cell_type": "code",
   "execution_count": 10,
   "id": "c650724f",
   "metadata": {},
   "outputs": [
    {
     "data": {
      "text/plain": [
       "rec.array([(3.975909, 0.548988)],\n",
       "          dtype=[('n_sn', '<f8'), ('zlim', '<f8')])"
      ]
     },
     "execution_count": 10,
     "metadata": {},
     "output_type": "execute_result"
    }
   ],
   "source": [
    "# Running on all data at that point\n",
    "metric.run(data, slice_point=slice_point)"
   ]
  },
  {
   "cell_type": "code",
   "execution_count": 11,
   "id": "1e324600",
   "metadata": {},
   "outputs": [
    {
     "data": {
      "text/plain": [
       "rec.array([(0.463426, 0.573939)],\n",
       "          dtype=[('n_sn', '<f8'), ('zlim', '<f8')])"
      ]
     },
     "execution_count": 11,
     "metadata": {},
     "output_type": "execute_result"
    }
   ],
   "source": [
    "# only on first year\n",
    "sub = np.where(data['night'] < 365)[0]\n",
    "metric.run(data[sub], slice_point=slice_point)"
   ]
  },
  {
   "cell_type": "code",
   "execution_count": 12,
   "id": "1fdae0a0",
   "metadata": {},
   "outputs": [
    {
     "data": {
      "text/plain": [
       "rec.array([(2.697669, 0.5087745)],\n",
       "          dtype=[('n_sn', '<f8'), ('zlim', '<f8')])"
      ]
     },
     "execution_count": 12,
     "metadata": {},
     "output_type": "execute_result"
    }
   ],
   "source": [
    "# remove z band\n",
    "sub = np.where(data['filter'] != 'z')[0]\n",
    "metric.run(data[sub], slice_point=slice_point)"
   ]
  },
  {
   "cell_type": "code",
   "execution_count": 13,
   "id": "ff376f58",
   "metadata": {},
   "outputs": [
    {
     "data": {
      "text/plain": [
       "rec.array([(3.362374, 0.525753)],\n",
       "          dtype=[('n_sn', '<f8'), ('zlim', '<f8')])"
      ]
     },
     "execution_count": 13,
     "metadata": {},
     "output_type": "execute_result"
    }
   ],
   "source": [
    "# remove y band\n",
    "sub = np.where(data['filter'] != 'y')[0]\n",
    "metric.run(data[sub], slice_point=slice_point)"
   ]
  },
  {
   "cell_type": "code",
   "execution_count": 14,
   "id": "32f939e5",
   "metadata": {},
   "outputs": [
    {
     "data": {
      "text/plain": [
       "rec.array([(2.37225, 0.490826)],\n",
       "          dtype=[('n_sn', '<f8'), ('zlim', '<f8')])"
      ]
     },
     "execution_count": 14,
     "metadata": {},
     "output_type": "execute_result"
    }
   ],
   "source": [
    "# only use half the data\n",
    "metric.run(data[::2], slice_point=slice_point)"
   ]
  },
  {
   "cell_type": "code",
   "execution_count": 15,
   "id": "7509899e",
   "metadata": {},
   "outputs": [
    {
     "data": {
      "text/plain": [
       "rec.array([(2.167496, 0.4629085)],\n",
       "          dtype=[('n_sn', '<f8'), ('zlim', '<f8')])"
      ]
     },
     "execution_count": 15,
     "metadata": {},
     "output_type": "execute_result"
    }
   ],
   "source": [
    "# make it less deep by changing 5-sigma depth\n",
    "mock_data = data.copy()\n",
    "mock_data['fiveSigmaDepth'] -= 0.5\n",
    "metric.run(mock_data, slice_point=slice_point)"
   ]
  },
  {
   "cell_type": "code",
   "execution_count": 16,
   "id": "ab4f94d1",
   "metadata": {},
   "outputs": [
    {
     "data": {
      "text/plain": [
       "rec.array([(5.089604, 0.596875)],\n",
       "          dtype=[('n_sn', '<f8'), ('zlim', '<f8')])"
      ]
     },
     "execution_count": 16,
     "metadata": {},
     "output_type": "execute_result"
    }
   ],
   "source": [
    "# make each visit deeper\n",
    "mock_data = data.copy()\n",
    "mock_data['fiveSigmaDepth'] += 0.5\n",
    "metric.run(mock_data, slice_point=slice_point)"
   ]
  },
  {
   "cell_type": "code",
   "execution_count": 17,
   "id": "ddc3a49b",
   "metadata": {},
   "outputs": [
    {
     "data": {
      "text/plain": [
       "rec.array([(3.803129, 0.554565)],\n",
       "          dtype=[('n_sn', '<f8'), ('zlim', '<f8')])"
      ]
     },
     "execution_count": 17,
     "metadata": {},
     "output_type": "execute_result"
    }
   ],
   "source": [
    "# no short visits\n",
    "sub = np.where(data['visitExposureTime'] > 20)[0]\n",
    "metric.run(data[sub], slice_point=slice_point)"
   ]
  },
  {
   "cell_type": "code",
   "execution_count": 18,
   "id": "d3ac5cbe",
   "metadata": {},
   "outputs": [
    {
     "data": {
      "text/plain": [
       "-666"
      ]
     },
     "execution_count": 18,
     "metadata": {},
     "output_type": "execute_result"
    }
   ],
   "source": [
    "# cut exposure time in half.  Looks like exposure time is only used for computing coadds in a night.\n",
    "mock_data = data.copy()\n",
    "mock_data['visitExposureTime'] = mock_data['visitExposureTime']/2.\n",
    "metric.run(mock_data, slice_point=slice_point)"
   ]
  },
  {
   "cell_type": "code",
   "execution_count": null,
   "id": "8544250e",
   "metadata": {},
   "outputs": [],
   "source": []
  }
 ],
 "metadata": {
  "kernelspec": {
   "display_name": "Python 3 (ipykernel)",
   "language": "python",
   "name": "python3"
  },
  "language_info": {
   "codemirror_mode": {
    "name": "ipython",
    "version": 3
   },
   "file_extension": ".py",
   "mimetype": "text/x-python",
   "name": "python",
   "nbconvert_exporter": "python",
   "pygments_lexer": "ipython3",
   "version": "3.11.3"
  }
 },
 "nbformat": 4,
 "nbformat_minor": 5
}
