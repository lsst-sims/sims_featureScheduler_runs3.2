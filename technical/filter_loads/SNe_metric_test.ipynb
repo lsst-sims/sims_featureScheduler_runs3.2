{
 "cells": [
  {
   "cell_type": "code",
   "execution_count": 1,
   "id": "40af115f",
   "metadata": {},
   "outputs": [],
   "source": [
    "# Check to see if the SNe metric behaves as expected generally\n",
    "import numpy as np\n",
    "import matplotlib.pylab as plt\n",
    "%matplotlib inline\n",
    "import rubin_sim.maf as maf\n",
    "from rubin_sim.utils import ddf_locations"
   ]
  },
  {
   "cell_type": "code",
   "execution_count": 2,
   "id": "a752cf9f",
   "metadata": {},
   "outputs": [],
   "source": [
    "# let's pull an array out of a sim at the center of a DDF\n",
    "locations = ddf_locations()"
   ]
  },
  {
   "cell_type": "code",
   "execution_count": 3,
   "id": "bbdb9568",
   "metadata": {},
   "outputs": [
    {
     "name": "stdout",
     "output_type": "stream",
     "text": [
      "Loading  /Users/yoachim/rubin_sim_data/maf/SNe_data/LC_-2.0_0.2_380.0_800.0_ebvofMW_0.0_vstack.hdf5 g 20774 799 26\n"
     ]
    },
    {
     "name": "stderr",
     "output_type": "stream",
     "text": [
      "/Users/yoachim/anaconda3/envs/rubin2/lib/python3.11/site-packages/numpy/core/fromnumeric.py:784: UserWarning: Warning: 'partition' will ignore the 'mask' of the MaskedArray.\n",
      "  a.partition(kth, axis=axis, kind=kind, order=order)\n"
     ]
    },
    {
     "name": "stdout",
     "output_type": "stream",
     "text": [
      "Loading  /Users/yoachim/rubin_sim_data/maf/SNe_data/LC_-2.0_0.2_380.0_800.0_ebvofMW_0.0_vstack.hdf5 i 78302 799 98\n",
      "Loading  /Users/yoachim/rubin_sim_data/maf/SNe_data/LC_-2.0_0.2_380.0_800.0_ebvofMW_0.0_vstack.hdf5 r 50337 799 63\n",
      "Loading  /Users/yoachim/rubin_sim_data/maf/SNe_data/LC_-2.0_0.2_380.0_800.0_ebvofMW_0.0_vstack.hdf5 y 63121 799 79\n",
      "Loading  /Users/yoachim/rubin_sim_data/maf/SNe_data/LC_-2.0_0.2_380.0_800.0_ebvofMW_0.0_vstack.hdf5 z 73508 799 92\n",
      "Loading  /Users/yoachim/rubin_sim_data/maf/SNe_data/LC_0.0_0.0_380.0_800.0_ebvofMW_0.0_vstack.hdf5 g 20774 799 26\n"
     ]
    },
    {
     "name": "stderr",
     "output_type": "stream",
     "text": [
      "/Users/yoachim/anaconda3/envs/rubin2/lib/python3.11/site-packages/numpy/core/fromnumeric.py:784: UserWarning: Warning: 'partition' will ignore the 'mask' of the MaskedArray.\n",
      "  a.partition(kth, axis=axis, kind=kind, order=order)\n"
     ]
    },
    {
     "name": "stdout",
     "output_type": "stream",
     "text": [
      "Loading  /Users/yoachim/rubin_sim_data/maf/SNe_data/LC_0.0_0.0_380.0_800.0_ebvofMW_0.0_vstack.hdf5 i 78302 799 98\n",
      "Loading  /Users/yoachim/rubin_sim_data/maf/SNe_data/LC_0.0_0.0_380.0_800.0_ebvofMW_0.0_vstack.hdf5 r 50337 799 63\n",
      "Loading  /Users/yoachim/rubin_sim_data/maf/SNe_data/LC_0.0_0.0_380.0_800.0_ebvofMW_0.0_vstack.hdf5 y 78302 799 98\n",
      "Loading  /Users/yoachim/rubin_sim_data/maf/SNe_data/LC_0.0_0.0_380.0_800.0_ebvofMW_0.0_vstack.hdf5 z 88689 799 111\n"
     ]
    }
   ],
   "source": [
    "\n",
    "fieldname = 'ELAISS1'#'XMM_LSS'\n",
    "\n",
    "# set up the metric like in the ddf batch\n",
    "metric = maf.metrics.SNNSNMetric(\n",
    "            verbose=False,\n",
    "            n_bef=4,\n",
    "            n_aft=10,\n",
    "            zmin=0.1,\n",
    "            zmax=1.1,\n",
    "            z_step=0.03,\n",
    "            daymax_step=3,\n",
    "            coadd_night=True,\n",
    "            gamma_name=\"gamma_DDF.hdf5\",\n",
    "            metric_name=f\"SNNSNMetric {fieldname}\",  \n",
    "        )"
   ]
  },
  {
   "cell_type": "code",
   "execution_count": 4,
   "id": "0656304a",
   "metadata": {},
   "outputs": [
    {
     "data": {
      "text/plain": [
       "{'ELAISS1': (9.45, -44.0),\n",
       " 'XMM_LSS': (35.708333, -4.75),\n",
       " 'ECDFS': (53.125, -28.1),\n",
       " 'COSMOS': (150.1, 2.1819444444444445),\n",
       " 'EDFS_a': (58.9, -49.315),\n",
       " 'EDFS_b': (63.6, -47.6)}"
      ]
     },
     "execution_count": 4,
     "metadata": {},
     "output_type": "execute_result"
    }
   ],
   "source": [
    "locations"
   ]
  },
  {
   "cell_type": "code",
   "execution_count": 5,
   "id": "a0d51d4a",
   "metadata": {},
   "outputs": [],
   "source": [
    "db_file = 'filter_u_z_v3.1_10yrs.db'\n",
    "pm = maf.PassMetric(cols=list(metric.col_registry.col_set)+['note'])\n",
    "slicer = maf.UserPointsSlicer(ra=locations[fieldname][0], dec=locations[fieldname][1])\n",
    "\n",
    "bl = [maf.MetricBundle(pm, slicer, '')]\n",
    "\n",
    "bd = maf.make_bundles_dict_from_list(bl)\n",
    "mbg = maf.MetricBundleGroup(bd, db_file, out_dir='temp')\n",
    "\n"
   ]
  },
  {
   "cell_type": "code",
   "execution_count": 6,
   "id": "02ed732f",
   "metadata": {},
   "outputs": [],
   "source": [
    "mbg.run_all()"
   ]
  },
  {
   "cell_type": "code",
   "execution_count": 7,
   "id": "8355d0a1",
   "metadata": {},
   "outputs": [
    {
     "data": {
      "text/plain": [
       "rec.array([('r', 751360, 62025.21099588,  9.05371607, 24.37710543, 1229, 337.37309825, 34., 'blob, gr, a', 30., -45.88962701, 2),\n",
       "           ('g', 751410, 62025.23578028,  9.05371607, 24.4478755 , 1229, 337.37309825, 34., 'blob, gr, b', 30., -45.88962701, 2),\n",
       "           ('u', 770004, 62058.1972408 ,  7.32371578, 23.7572736 , 1262, 294.03010497, 31., 'blob, ur, a', 30., -45.13485669, 1),\n",
       "           ...,\n",
       "           ('r', 328492, 61328.01417043, 10.36583727, 23.60672596,  532,  73.16807956, 34., 'blob_long, gr, a', 30., -42.70266667, 2),\n",
       "           ('i',  76560, 60917.28679879, 11.06725195, 23.75953025,  121,  64.1209095 , 34., 'blob, iz, b', 30., -42.54298963, 2),\n",
       "           ('z',  76510, 60917.26234188, 11.06725195, 23.23084484,  121,  64.1209095 , 34., 'blob, iz, a', 30., -42.54298963, 2)],\n",
       "          dtype=[('filter', 'O'), ('observationId', '<i8'), ('observationStartMJD', '<f8'), ('fieldRA', '<f8'), ('fiveSigmaDepth', '<f8'), ('night', '<i8'), ('rotSkyPos', '<f8'), ('visitTime', '<f8'), ('note', 'O'), ('visitExposureTime', '<f8'), ('fieldDec', '<f8'), ('numExposures', '<i8')])"
      ]
     },
     "execution_count": 7,
     "metadata": {},
     "output_type": "execute_result"
    }
   ],
   "source": [
    "data = bl[0].metric_values[0]\n",
    "data"
   ]
  },
  {
   "cell_type": "code",
   "execution_count": 8,
   "id": "651e700c",
   "metadata": {},
   "outputs": [
    {
     "data": {
      "text/plain": [
       "(20473,)"
      ]
     },
     "execution_count": 8,
     "metadata": {},
     "output_type": "execute_result"
    }
   ],
   "source": [
    "data.shape"
   ]
  },
  {
   "cell_type": "code",
   "execution_count": 9,
   "id": "e7d1f2e3",
   "metadata": {},
   "outputs": [],
   "source": [
    "# say there is no extinction, set nside to something reasonable\n",
    "slice_point = {\"ebv\": 0, \"nside\": 128}"
   ]
  },
  {
   "cell_type": "code",
   "execution_count": 10,
   "id": "c650724f",
   "metadata": {},
   "outputs": [
    {
     "data": {
      "text/plain": [
       "rec.array([(15.255826, 0.5700445)],\n",
       "          dtype=[('n_sn', '<f8'), ('zlim', '<f8')])"
      ]
     },
     "execution_count": 10,
     "metadata": {},
     "output_type": "execute_result"
    }
   ],
   "source": [
    "# Running on all data at that point\n",
    "metric.run(data, slice_point=slice_point)"
   ]
  },
  {
   "cell_type": "code",
   "execution_count": 12,
   "id": "c3a0b914",
   "metadata": {},
   "outputs": [
    {
     "data": {
      "text/plain": [
       "rec.array([(3.349314, 0.580024)],\n",
       "          dtype=[('n_sn', '<f8'), ('zlim', '<f8')])"
      ]
     },
     "execution_count": 12,
     "metadata": {},
     "output_type": "execute_result"
    }
   ],
   "source": [
    "# only DDF\n",
    "np.unique(data['note'])\n",
    "sub = np.where(data['note'] == \"DD:ELAISS1\")[0]\n",
    "metric.run(data[sub], slice_point=slice_point)\n"
   ]
  },
  {
   "cell_type": "markdown",
   "id": "107c1456",
   "metadata": {},
   "source": [
    "AHA! There it is. There's a huge drop off if we limit to DDF designated observations! But that didn't actually remove very many observations. "
   ]
  },
  {
   "cell_type": "code",
   "execution_count": 13,
   "id": "a45b96e1",
   "metadata": {},
   "outputs": [
    {
     "data": {
      "text/plain": [
       "19698"
      ]
     },
     "execution_count": 13,
     "metadata": {},
     "output_type": "execute_result"
    }
   ],
   "source": [
    "sub.size"
   ]
  },
  {
   "cell_type": "code",
   "execution_count": 11,
   "id": "1e324600",
   "metadata": {},
   "outputs": [
    {
     "data": {
      "text/plain": [
       "rec.array([(1.868775, 0.575252)],\n",
       "          dtype=[('n_sn', '<f8'), ('zlim', '<f8')])"
      ]
     },
     "execution_count": 11,
     "metadata": {},
     "output_type": "execute_result"
    }
   ],
   "source": [
    "# only on first year\n",
    "sub = np.where(data['night'] < 365)[0]\n",
    "metric.run(data[sub], slice_point=slice_point)"
   ]
  },
  {
   "cell_type": "code",
   "execution_count": 12,
   "id": "1fdae0a0",
   "metadata": {},
   "outputs": [
    {
     "data": {
      "text/plain": [
       "rec.array([(11.831918, 0.5145045)],\n",
       "          dtype=[('n_sn', '<f8'), ('zlim', '<f8')])"
      ]
     },
     "execution_count": 12,
     "metadata": {},
     "output_type": "execute_result"
    }
   ],
   "source": [
    "# remove z band\n",
    "sub = np.where(data['filter'] != 'z')[0]\n",
    "metric.run(data[sub], slice_point=slice_point)"
   ]
  },
  {
   "cell_type": "code",
   "execution_count": 13,
   "id": "ff376f58",
   "metadata": {},
   "outputs": [
    {
     "data": {
      "text/plain": [
       "rec.array([(12.783541, 0.544206)],\n",
       "          dtype=[('n_sn', '<f8'), ('zlim', '<f8')])"
      ]
     },
     "execution_count": 13,
     "metadata": {},
     "output_type": "execute_result"
    }
   ],
   "source": [
    "# remove y band\n",
    "sub = np.where(data['filter'] != 'y')[0]\n",
    "metric.run(data[sub], slice_point=slice_point)"
   ]
  },
  {
   "cell_type": "code",
   "execution_count": 14,
   "id": "32f939e5",
   "metadata": {},
   "outputs": [
    {
     "data": {
      "text/plain": [
       "rec.array([(9.596289, 0.5003345)],\n",
       "          dtype=[('n_sn', '<f8'), ('zlim', '<f8')])"
      ]
     },
     "execution_count": 14,
     "metadata": {},
     "output_type": "execute_result"
    }
   ],
   "source": [
    "# only use half the data\n",
    "metric.run(data[::2], slice_point=slice_point)"
   ]
  },
  {
   "cell_type": "code",
   "execution_count": 15,
   "id": "7509899e",
   "metadata": {},
   "outputs": [
    {
     "data": {
      "text/plain": [
       "rec.array([(8.812472, 0.47585)],\n",
       "          dtype=[('n_sn', '<f8'), ('zlim', '<f8')])"
      ]
     },
     "execution_count": 15,
     "metadata": {},
     "output_type": "execute_result"
    }
   ],
   "source": [
    "# make it less deep by changing 5-sigma depth\n",
    "mock_data = data.copy()\n",
    "mock_data['fiveSigmaDepth'] -= 0.5\n",
    "metric.run(mock_data, slice_point=slice_point)"
   ]
  },
  {
   "cell_type": "code",
   "execution_count": 16,
   "id": "ab4f94d1",
   "metadata": {},
   "outputs": [
    {
     "data": {
      "text/plain": [
       "rec.array([(18.733237, 0.59761)],\n",
       "          dtype=[('n_sn', '<f8'), ('zlim', '<f8')])"
      ]
     },
     "execution_count": 16,
     "metadata": {},
     "output_type": "execute_result"
    }
   ],
   "source": [
    "# make each visit deeper\n",
    "mock_data = data.copy()\n",
    "mock_data['fiveSigmaDepth'] += 0.5\n",
    "metric.run(mock_data, slice_point=slice_point)"
   ]
  },
  {
   "cell_type": "code",
   "execution_count": 17,
   "id": "ddc3a49b",
   "metadata": {},
   "outputs": [
    {
     "data": {
      "text/plain": [
       "rec.array([(15.255826, 0.5700445)],\n",
       "          dtype=[('n_sn', '<f8'), ('zlim', '<f8')])"
      ]
     },
     "execution_count": 17,
     "metadata": {},
     "output_type": "execute_result"
    }
   ],
   "source": [
    "# no short visits\n",
    "sub = np.where(data['visitExposureTime'] > 20)[0]\n",
    "metric.run(data[sub], slice_point=slice_point)"
   ]
  },
  {
   "cell_type": "code",
   "execution_count": 18,
   "id": "d3ac5cbe",
   "metadata": {},
   "outputs": [
    {
     "data": {
      "text/plain": [
       "-666"
      ]
     },
     "execution_count": 18,
     "metadata": {},
     "output_type": "execute_result"
    }
   ],
   "source": [
    "# cut exposure time in half.  Looks like exposure time is only used for computing coadds in a night.\n",
    "mock_data = data.copy()\n",
    "mock_data['visitExposureTime'] = mock_data['visitExposureTime']/2.\n",
    "metric.run(mock_data, slice_point=slice_point)"
   ]
  },
  {
   "cell_type": "code",
   "execution_count": null,
   "id": "8544250e",
   "metadata": {},
   "outputs": [],
   "source": []
  }
 ],
 "metadata": {
  "kernelspec": {
   "display_name": "Python 3 (ipykernel)",
   "language": "python",
   "name": "python3"
  },
  "language_info": {
   "codemirror_mode": {
    "name": "ipython",
    "version": 3
   },
   "file_extension": ".py",
   "mimetype": "text/x-python",
   "name": "python",
   "nbconvert_exporter": "python",
   "pygments_lexer": "ipython3",
   "version": "3.11.3"
  }
 },
 "nbformat": 4,
 "nbformat_minor": 5
}
