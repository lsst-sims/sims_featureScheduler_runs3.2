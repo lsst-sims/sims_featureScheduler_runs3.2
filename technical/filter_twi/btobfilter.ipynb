{
 "cells": [
  {
   "cell_type": "code",
   "execution_count": 1,
   "id": "1b69d5e5",
   "metadata": {},
   "outputs": [],
   "source": [
    "import numpy as np\n",
    "import pandas as pd\n",
    "import sqlite3\n",
    "import glob\n"
   ]
  },
  {
   "cell_type": "code",
   "execution_count": 5,
   "id": "c95935dd",
   "metadata": {},
   "outputs": [
    {
     "name": "stdout",
     "output_type": "stream",
     "text": [
      "filter_simple_fw_10.0_v3.2_10yrs.db 50\n",
      "filter_simple_fw_1.0_v3.2_10yrs.db 794\n",
      "filter_simple_fw_100.0_v3.2_10yrs.db 50\n",
      "filter_simple_fw_0.0_v3.2_10yrs.db 11570\n",
      "filter_simple_fw_30.0_v3.2_10yrs.db 50\n",
      "filter_simple_fw_0.1_v3.2_10yrs.db 10020\n",
      "filter_simple_fw_3.0_v3.2_10yrs.db 125\n",
      "filter_stay_v3.2_10yrs.db 204\n"
     ]
    }
   ],
   "source": [
    "files = glob.glob('*10yrs.db')\n",
    "for filename in files:\n",
    "    \n",
    "    con = sqlite3.connect(filename)\n",
    "\n",
    "    df = pd.read_sql('select filter,night,note,observationStartMJD from observations;', con)\n",
    "    count = 0\n",
    "    notes = []\n",
    "    for i in np.arange(np.size(df['filter'])-2):\n",
    "        if np.size(np.unique(df['night'].values[i:i+3])) == 1:\n",
    "            if (df['observationStartMJD'][i+2]-df['observationStartMJD'][i]) < (0.5/24.):\n",
    "                if df['filter'].values[i] != df['filter'].values[i+1]:\n",
    "                    if df['filter'].values[i+1] != df['filter'].values[i+2]:\n",
    "                        count += 1\n",
    "                        notes.append([df['note'].values[i:i+3]])\n",
    "\n",
    "    print(filename, count)\n",
    "    con.close()"
   ]
  },
  {
   "cell_type": "code",
   "execution_count": null,
   "id": "2641b22d",
   "metadata": {},
   "outputs": [],
   "source": []
  },
  {
   "cell_type": "code",
   "execution_count": null,
   "id": "0f53ee40",
   "metadata": {},
   "outputs": [],
   "source": []
  },
  {
   "cell_type": "code",
   "execution_count": 5,
   "id": "a30795b5",
   "metadata": {},
   "outputs": [],
   "source": [
    "count = 0\n",
    "notes = []\n",
    "for i in np.arange(np.size(df['filter'])-2):\n",
    "    if np.size(np.unique(df['night'].values[i:i+3])) == 1:\n",
    "        if (df['observationStartMJD'][i+2]-df['observationStartMJD'][i]) < (0.5/24.):\n",
    "            if df['filter'].values[i] != df['filter'].values[i+1]:\n",
    "                if df['filter'].values[i+1] != df['filter'].values[i+2]:\n",
    "                    count += 1\n",
    "                    notes.append([df['note'].values[i:i+3]])"
   ]
  },
  {
   "cell_type": "code",
   "execution_count": 6,
   "id": "a545945f",
   "metadata": {},
   "outputs": [
    {
     "data": {
      "text/plain": [
       "204"
      ]
     },
     "execution_count": 6,
     "metadata": {},
     "output_type": "execute_result"
    }
   ],
   "source": [
    "count"
   ]
  },
  {
   "cell_type": "code",
   "execution_count": 7,
   "id": "e0c8547f",
   "metadata": {},
   "outputs": [
    {
     "data": {
      "text/plain": [
       "2809"
      ]
     },
     "execution_count": 7,
     "metadata": {},
     "output_type": "execute_result"
    }
   ],
   "source": [
    "np.size(np.unique(df['night']))"
   ]
  },
  {
   "cell_type": "code",
   "execution_count": 8,
   "id": "e64a51d3",
   "metadata": {},
   "outputs": [
    {
     "data": {
      "text/plain": [
       "[[array(['pair_33, ug, a', 'pair_33, ug, b', 'pair_15, iz, a'], dtype=object)],\n",
       " [array(['greedy', 'greedy', 'blob_long, gr, a'], dtype=object)],\n",
       " [array(['greedy', 'greedy', 'blob_long, gr, a'], dtype=object)],\n",
       " [array(['greedy', 'greedy', 'twilight_near_sun, 0'], dtype=object)],\n",
       " [array(['greedy', 'greedy', 'twilight_near_sun, 0'], dtype=object)],\n",
       " [array(['DD:ECDFS', 'greedy', 'twilight_near_sun, 0'], dtype=object)],\n",
       " [array(['greedy', 'greedy', 'twilight_near_sun, 0'], dtype=object)],\n",
       " [array(['greedy', 'greedy', 'twilight_near_sun, 0'], dtype=object)],\n",
       " [array(['DD:EDFS_b', 'greedy', 'twilight_near_sun, 0'], dtype=object)],\n",
       " [array(['greedy', 'greedy', 'twilight_near_sun, 0'], dtype=object)],\n",
       " [array(['twilight_near_sun, 3', 'greedy', 'blob_long, iz, a'], dtype=object)],\n",
       " [array(['DD:COSMOS', 'greedy', 'twilight_near_sun, 0'], dtype=object)],\n",
       " [array(['DD:COSMOS', 'DD:COSMOS', 'DD:COSMOS'], dtype=object)],\n",
       " [array(['DD:ECDFS', 'greedy', 'DD:COSMOS'], dtype=object)],\n",
       " [array(['pair_15, iz, b', 'DD:XMM_LSS', 'pair_33, ur, a'], dtype=object)],\n",
       " [array(['greedy', 'greedy', 'twilight_near_sun, 0'], dtype=object)],\n",
       " [array(['pair_33, iz, b', 'long', 'pair_33, ri, a'], dtype=object)],\n",
       " [array(['greedy', 'greedy', 'twilight_near_sun, 0'], dtype=object)],\n",
       " [array(['greedy', 'greedy', 'twilight_near_sun, 0'], dtype=object)],\n",
       " [array(['greedy', 'greedy', 'twilight_near_sun, 0'], dtype=object)],\n",
       " [array(['pair_33, gr, b', 'long', 'pair_33, ug, a'], dtype=object)],\n",
       " [array(['pair_33, ri, b', 'long', 'pair_33, ur, a'], dtype=object)],\n",
       " [array(['greedy', 'greedy', 'twilight_near_sun, 0'], dtype=object)],\n",
       " [array(['greedy', 'greedy', 'twilight_near_sun, 0'], dtype=object)],\n",
       " [array(['greedy', 'greedy', 'twilight_near_sun, 0'], dtype=object)],\n",
       " [array(['greedy', 'greedy', 'twilight_near_sun, 0'], dtype=object)],\n",
       " [array(['greedy', 'greedy', 'twilight_near_sun, 0'], dtype=object)],\n",
       " [array(['greedy', 'greedy', 'twilight_near_sun, 0'], dtype=object)],\n",
       " [array(['DD:EDFS_b', 'greedy', 'twilight_near_sun, 0'], dtype=object)],\n",
       " [array(['greedy', 'greedy', 'twilight_near_sun, 0'], dtype=object)],\n",
       " [array(['greedy', 'greedy', 'blob_long, iz, a'], dtype=object)],\n",
       " [array(['greedy', 'greedy', 'blob_long, gr, a'], dtype=object)],\n",
       " [array(['DD:COSMOS', 'greedy', 'twilight_near_sun, 0'], dtype=object)],\n",
       " [array(['DD:COSMOS', 'greedy', 'twilight_near_sun, 0'], dtype=object)],\n",
       " [array(['pair_15, iz, b', 'DD:XMM_LSS', 'DD:EDFS_a'], dtype=object)],\n",
       " [array(['pair_15, zy, a', 'pair_15, zy, b', 'DD:COSMOS'], dtype=object)],\n",
       " [array(['greedy', 'greedy', 'twilight_near_sun, 0'], dtype=object)],\n",
       " [array(['greedy', 'greedy', 'twilight_near_sun, 0'], dtype=object)],\n",
       " [array(['greedy', 'greedy', 'twilight_near_sun, 0'], dtype=object)],\n",
       " [array(['greedy', 'greedy', 'twilight_near_sun, 0'], dtype=object)],\n",
       " [array(['greedy', 'greedy', 'twilight_near_sun, 0'], dtype=object)],\n",
       " [array(['greedy', 'greedy', 'twilight_near_sun, 0'], dtype=object)],\n",
       " [array(['greedy', 'greedy', 'twilight_near_sun, 0'], dtype=object)],\n",
       " [array(['greedy', 'greedy', 'twilight_near_sun, 0'], dtype=object)],\n",
       " [array(['greedy', 'pair_15, ri, a', 'pair_15, ri, b'], dtype=object)],\n",
       " [array(['pair_15, ri, a', 'pair_15, ri, b', 'DD:COSMOS'], dtype=object)],\n",
       " [array(['pair_15, iz, a', 'pair_15, iz, b', 'DD:COSMOS'], dtype=object)],\n",
       " [array(['pair_15, iz, a', 'pair_15, iz, b', 'DD:COSMOS'], dtype=object)],\n",
       " [array(['greedy', 'pair_15, ri, a', 'pair_15, ri, b'], dtype=object)],\n",
       " [array(['pair_15, ri, a', 'pair_15, ri, b', 'DD:COSMOS'], dtype=object)],\n",
       " [array(['DD:ELAISS1', 'greedy', 'twilight_near_sun, 0'], dtype=object)],\n",
       " [array(['greedy', 'greedy', 'twilight_near_sun, 0'], dtype=object)],\n",
       " [array(['DD:XMM_LSS', 'greedy', 'twilight_near_sun, 0'], dtype=object)],\n",
       " [array(['greedy', 'greedy', 'twilight_near_sun, 0'], dtype=object)],\n",
       " [array(['greedy', 'greedy', 'twilight_near_sun, 0'], dtype=object)],\n",
       " [array(['greedy', 'greedy', 'twilight_near_sun, 0'], dtype=object)],\n",
       " [array(['DD:EDFS_a', 'DD:EDFS_a', 'DD:EDFS_b'], dtype=object)],\n",
       " [array(['DD:COSMOS', 'greedy', 'twilight_near_sun, 0'], dtype=object)],\n",
       " [array(['twilight_near_sun, 3', 'greedy', 'DD:EDFS_a'], dtype=object)],\n",
       " [array(['pair_33, zy, b', 'long', 'pair_33, zy, a'], dtype=object)],\n",
       " [array(['greedy', 'pair_15, ri, a', 'pair_15, ri, b'], dtype=object)],\n",
       " [array(['pair_15, ri, a', 'pair_15, ri, b', 'DD:ECDFS'], dtype=object)],\n",
       " [array(['greedy', 'greedy', 'twilight_near_sun, 0'], dtype=object)],\n",
       " [array(['greedy', 'greedy', 'twilight_near_sun, 0'], dtype=object)],\n",
       " [array(['greedy', 'greedy', 'twilight_near_sun, 0'], dtype=object)],\n",
       " [array(['greedy', 'greedy', 'twilight_near_sun, 0'], dtype=object)],\n",
       " [array(['greedy', 'greedy', 'twilight_near_sun, 0'], dtype=object)],\n",
       " [array(['greedy', 'greedy', 'twilight_near_sun, 0'], dtype=object)],\n",
       " [array(['greedy', 'greedy', 'blob_long, ri, a'], dtype=object)],\n",
       " [array(['greedy', 'greedy', 'twilight_near_sun, 0'], dtype=object)],\n",
       " [array(['greedy', 'greedy', 'twilight_near_sun, 0'], dtype=object)],\n",
       " [array(['greedy', 'greedy', 'twilight_near_sun, 0'], dtype=object)],\n",
       " [array(['pair_15, iz, a', 'pair_15, iz, b', 'DD:COSMOS'], dtype=object)],\n",
       " [array(['pair_33, iz, b', 'long', 'pair_33, ur, a'], dtype=object)],\n",
       " [array(['DD:ELAISS1', 'greedy', 'twilight_near_sun, 0'], dtype=object)],\n",
       " [array(['greedy', 'greedy', 'blob_long, ri, a'], dtype=object)],\n",
       " [array(['pair_33, iz, b', 'long', 'pair_33, iz, a'], dtype=object)],\n",
       " [array(['DD:EDFS_a', 'greedy', 'twilight_near_sun, 0'], dtype=object)],\n",
       " [array(['DD:EDFS_b', 'greedy', 'twilight_near_sun, 0'], dtype=object)],\n",
       " [array(['pair_33, iz, b', 'long', 'pair_33, zy, a'], dtype=object)],\n",
       " [array(['greedy', 'greedy', 'DD:ELAISS1'], dtype=object)],\n",
       " [array(['DD:ELAISS1', 'greedy', 'twilight_near_sun, 0'], dtype=object)],\n",
       " [array(['pair_15, zy, a', 'pair_15, zy, b', 'DD:ELAISS1'], dtype=object)],\n",
       " [array(['pair_33, gr, b', 'long', 'pair_33, gr, a'], dtype=object)],\n",
       " [array(['greedy', 'greedy', 'DD:EDFS_a'], dtype=object)],\n",
       " [array(['DD:COSMOS', 'greedy', 'twilight_near_sun, 0'], dtype=object)],\n",
       " [array(['pair_33, ur, b', 'greedy', 'pair_33, gr, a'], dtype=object)],\n",
       " [array(['greedy', 'long', 'greedy'], dtype=object)],\n",
       " [array(['greedy', 'greedy', 'twilight_near_sun, 0'], dtype=object)],\n",
       " [array(['greedy', 'greedy', 'twilight_near_sun, 0'], dtype=object)],\n",
       " [array(['greedy', 'greedy', 'twilight_near_sun, 0'], dtype=object)],\n",
       " [array(['pair_33, yy, b', 'long', 'pair_33, zy, a'], dtype=object)],\n",
       " [array(['greedy', 'greedy', 'twilight_near_sun, 0'], dtype=object)],\n",
       " [array(['pair_33, ri, a', 'pair_33, ri, b', 'pair_33, ur, a'], dtype=object)],\n",
       " [array(['greedy', 'greedy', 'twilight_near_sun, 0'], dtype=object)],\n",
       " [array(['DD:XMM_LSS', 'DD:XMM_LSS', 'DD:EDFS_a'], dtype=object)],\n",
       " [array(['DD:ECDFS', 'greedy', 'twilight_near_sun, 0'], dtype=object)],\n",
       " [array(['greedy', 'greedy', 'twilight_near_sun, 0'], dtype=object)],\n",
       " [array(['greedy', 'greedy', 'twilight_near_sun, 0'], dtype=object)],\n",
       " [array(['greedy', 'greedy', 'twilight_near_sun, 0'], dtype=object)],\n",
       " [array(['greedy', 'greedy', 'twilight_near_sun, 0'], dtype=object)],\n",
       " [array(['pair_33, gr, b', 'long', 'greedy'], dtype=object)],\n",
       " [array(['greedy', 'pair_15, ri, a', 'pair_15, ri, b'], dtype=object)],\n",
       " [array(['pair_15, ri, a', 'pair_15, ri, b', 'DD:ECDFS'], dtype=object)],\n",
       " [array(['pair_33, iz, a', 'pair_33, iz, b', 'pair_33, gr, a'], dtype=object)],\n",
       " [array(['greedy', 'greedy', 'DD:EDFS_a'], dtype=object)],\n",
       " [array(['greedy', 'greedy', 'blob_long, iz, a'], dtype=object)],\n",
       " [array(['greedy', 'greedy', 'twilight_near_sun, 0'], dtype=object)],\n",
       " [array(['pair_15, yy, b', 'pair_15, iz, a', 'pair_15, iz, b'], dtype=object)],\n",
       " [array(['greedy', 'greedy', 'twilight_near_sun, 0'], dtype=object)],\n",
       " [array(['pair_33, zy, b', 'long', 'pair_33, iz, a'], dtype=object)],\n",
       " [array(['greedy', 'greedy', 'twilight_near_sun, 0'], dtype=object)],\n",
       " [array(['greedy', 'greedy', 'twilight_near_sun, 0'], dtype=object)],\n",
       " [array(['greedy', 'pair_15, ri, a', 'pair_15, ri, b'], dtype=object)],\n",
       " [array(['pair_15, ri, a', 'pair_15, ri, b', 'DD:COSMOS'], dtype=object)],\n",
       " [array(['DD:ELAISS1', 'greedy', 'twilight_near_sun, 0'], dtype=object)],\n",
       " [array(['blob_long, iz, a', 'blob_long, iz, b', 'pair_33, zy, a'],\n",
       "        dtype=object)],\n",
       " [array(['greedy', 'greedy', 'twilight_near_sun, 0'], dtype=object)],\n",
       " [array(['DD:ECDFS', 'greedy', 'twilight_near_sun, 0'], dtype=object)],\n",
       " [array(['DD:XMM_LSS', 'greedy', 'twilight_near_sun, 0'], dtype=object)],\n",
       " [array(['greedy', 'greedy', 'twilight_near_sun, 0'], dtype=object)],\n",
       " [array(['pair_15, ri, a', 'pair_15, ri, b', 'DD:ECDFS'], dtype=object)],\n",
       " [array(['greedy', 'greedy', 'twilight_near_sun, 0'], dtype=object)],\n",
       " [array(['greedy', 'greedy', 'twilight_near_sun, 0'], dtype=object)],\n",
       " [array(['DD:EDFS_a', 'greedy', 'twilight_near_sun, 0'], dtype=object)],\n",
       " [array(['pair_15, iz, a', 'pair_15, iz, b', 'DD:ELAISS1'], dtype=object)],\n",
       " [array(['greedy', 'greedy', 'twilight_near_sun, 0'], dtype=object)],\n",
       " [array(['DD:ECDFS', 'greedy', 'twilight_near_sun, 0'], dtype=object)],\n",
       " [array(['greedy', 'greedy', 'twilight_near_sun, 0'], dtype=object)],\n",
       " [array(['pair_33, yy, b', 'long', 'pair_33, iz, a'], dtype=object)],\n",
       " [array(['long', 'greedy', 'DD:EDFS_a'], dtype=object)],\n",
       " [array(['pair_33, ur, b', 'greedy', 'pair_33, ur, a'], dtype=object)],\n",
       " [array(['pair_15, ri, a', 'pair_15, ri, b', 'DD:COSMOS'], dtype=object)],\n",
       " [array(['greedy', 'greedy', 'twilight_near_sun, 0'], dtype=object)],\n",
       " [array(['greedy', 'greedy', 'twilight_near_sun, 0'], dtype=object)],\n",
       " [array(['greedy', 'greedy', 'twilight_near_sun, 0'], dtype=object)],\n",
       " [array(['greedy', 'greedy', 'twilight_near_sun, 0'], dtype=object)],\n",
       " [array(['DD:COSMOS', 'DD:COSMOS', 'pair_33, ur, a'], dtype=object)],\n",
       " [array(['DD:EDFS_a', 'greedy', 'twilight_near_sun, 0'], dtype=object)],\n",
       " [array(['DD:EDFS_a', 'DD:EDFS_a', 'DD:ELAISS1'], dtype=object)],\n",
       " [array(['greedy', 'greedy', 'twilight_near_sun, 0'], dtype=object)],\n",
       " [array(['greedy', 'greedy', 'twilight_near_sun, 0'], dtype=object)],\n",
       " [array(['greedy', 'greedy', 'twilight_near_sun, 0'], dtype=object)],\n",
       " [array(['DD:EDFS_b', 'greedy', 'twilight_near_sun, 0'], dtype=object)],\n",
       " [array(['greedy', 'greedy', 'twilight_near_sun, 0'], dtype=object)],\n",
       " [array(['greedy', 'greedy', 'twilight_near_sun, 0'], dtype=object)],\n",
       " [array(['pair_33, gr, b', 'greedy', 'pair_33, gr, a'], dtype=object)],\n",
       " [array(['greedy', 'pair_15, ri, a', 'pair_15, ri, b'], dtype=object)],\n",
       " [array(['pair_15, ri, a', 'pair_15, ri, b', 'DD:ELAISS1'], dtype=object)],\n",
       " [array(['twilight_near_sun, 3', 'greedy', 'blob_long, gr, a'], dtype=object)],\n",
       " [array(['greedy', 'greedy', 'blob_long, gr, a'], dtype=object)],\n",
       " [array(['pair_33, ri, b', 'long', 'pair_33, gr, a'], dtype=object)],\n",
       " [array(['greedy', 'greedy', 'twilight_near_sun, 0'], dtype=object)],\n",
       " [array(['greedy', 'greedy', 'twilight_near_sun, 0'], dtype=object)],\n",
       " [array(['greedy', 'greedy', 'twilight_near_sun, 0'], dtype=object)],\n",
       " [array(['greedy', 'greedy', 'twilight_near_sun, 0'], dtype=object)],\n",
       " [array(['greedy', 'greedy', 'twilight_near_sun, 0'], dtype=object)],\n",
       " [array(['pair_33, ur, b', 'long', 'pair_33, ur, a'], dtype=object)],\n",
       " [array(['pair_33, ur, b', 'long', 'pair_33, gr, a'], dtype=object)],\n",
       " [array(['pair_33, iz, b', 'long', 'pair_33, zy, a'], dtype=object)],\n",
       " [array(['DD:ELAISS1', 'greedy', 'twilight_near_sun, 0'], dtype=object)],\n",
       " [array(['greedy', 'greedy', 'twilight_near_sun, 0'], dtype=object)],\n",
       " [array(['greedy', 'greedy', 'twilight_near_sun, 0'], dtype=object)],\n",
       " [array(['greedy', 'greedy', 'twilight_near_sun, 0'], dtype=object)],\n",
       " [array(['greedy', 'greedy', 'twilight_near_sun, 0'], dtype=object)],\n",
       " [array(['DD:ECDFS', 'greedy', 'twilight_near_sun, 0'], dtype=object)],\n",
       " [array(['greedy', 'greedy', 'twilight_near_sun, 0'], dtype=object)],\n",
       " [array(['greedy', 'greedy', 'twilight_near_sun, 0'], dtype=object)],\n",
       " [array(['greedy', 'greedy', 'blob_long, gr, a'], dtype=object)],\n",
       " [array(['DD:ELAISS1', 'DD:ELAISS1', 'DD:ECDFS'], dtype=object)],\n",
       " [array(['pair_15, zy, a', 'pair_15, zy, b', 'DD:ECDFS'], dtype=object)],\n",
       " [array(['pair_15, zy, a', 'pair_15, zy, b', 'pair_33, ri, a'], dtype=object)],\n",
       " [array(['greedy', 'greedy', 'twilight_near_sun, 0'], dtype=object)],\n",
       " [array(['pair_15, iz, a', 'pair_15, iz, b', 'DD:XMM_LSS'], dtype=object)],\n",
       " [array(['DD:ECDFS', 'greedy', 'twilight_near_sun, 0'], dtype=object)],\n",
       " [array(['greedy', 'greedy', 'twilight_near_sun, 0'], dtype=object)],\n",
       " [array(['greedy', 'greedy', 'twilight_near_sun, 0'], dtype=object)],\n",
       " [array(['greedy', 'greedy', 'twilight_near_sun, 0'], dtype=object)],\n",
       " [array(['pair_15, zy, a', 'pair_15, zy, b', 'pair_33, ri, a'], dtype=object)],\n",
       " [array(['pair_15, iz, a', 'pair_15, iz, b', 'DD:COSMOS'], dtype=object)],\n",
       " [array(['pair_33, gr, b', 'long', 'pair_33, yy, a'], dtype=object)],\n",
       " [array(['greedy', 'greedy', 'twilight_near_sun, 0'], dtype=object)],\n",
       " [array(['greedy', 'greedy', 'twilight_near_sun, 0'], dtype=object)],\n",
       " [array(['greedy', 'greedy', 'twilight_near_sun, 0'], dtype=object)],\n",
       " [array(['greedy', 'greedy', 'twilight_near_sun, 0'], dtype=object)],\n",
       " [array(['greedy', 'greedy', 'blob_long, ri, a'], dtype=object)],\n",
       " [array(['greedy', 'greedy', 'twilight_near_sun, 0'], dtype=object)],\n",
       " [array(['greedy', 'greedy', 'twilight_near_sun, 0'], dtype=object)],\n",
       " [array(['greedy', 'greedy', 'twilight_near_sun, 0'], dtype=object)],\n",
       " [array(['DD:ELAISS1', 'greedy', 'twilight_near_sun, 0'], dtype=object)],\n",
       " [array(['pair_15, ri, a', 'pair_15, ri, b', 'DD:ECDFS'], dtype=object)],\n",
       " [array(['greedy', 'greedy', 'twilight_near_sun, 0'], dtype=object)],\n",
       " [array(['greedy', 'greedy', 'twilight_near_sun, 0'], dtype=object)],\n",
       " [array(['greedy', 'greedy', 'twilight_near_sun, 0'], dtype=object)],\n",
       " [array(['greedy', 'greedy', 'twilight_near_sun, 0'], dtype=object)],\n",
       " [array(['DD:EDFS_a', 'greedy', 'twilight_near_sun, 0'], dtype=object)],\n",
       " [array(['DD:COSMOS', 'greedy', 'twilight_near_sun, 0'], dtype=object)],\n",
       " [array(['DD:COSMOS', 'greedy', 'twilight_near_sun, 0'], dtype=object)],\n",
       " [array(['pair_33, ur, b', 'long', 'pair_33, ug, a'], dtype=object)],\n",
       " [array(['twilight_near_sun, 3', 'greedy', 'blob_long, iz, a'], dtype=object)],\n",
       " [array(['greedy', 'greedy', 'twilight_near_sun, 0'], dtype=object)],\n",
       " [array(['greedy', 'greedy', 'twilight_near_sun, 0'], dtype=object)],\n",
       " [array(['greedy', 'greedy', 'twilight_near_sun, 0'], dtype=object)],\n",
       " [array(['pair_33, iz, b', 'long', 'pair_33, gr, a'], dtype=object)]]"
      ]
     },
     "execution_count": 8,
     "metadata": {},
     "output_type": "execute_result"
    }
   ],
   "source": [
    "notes"
   ]
  },
  {
   "cell_type": "code",
   "execution_count": 22,
   "id": "d7063715",
   "metadata": {},
   "outputs": [
    {
     "data": {
      "text/plain": [
       "0.09042363830544678"
      ]
     },
     "execution_count": 22,
     "metadata": {},
     "output_type": "execute_result"
    }
   ],
   "source": [
    "254/2809\n"
   ]
  },
  {
   "cell_type": "code",
   "execution_count": null,
   "id": "c70eca9e",
   "metadata": {},
   "outputs": [],
   "source": []
  }
 ],
 "metadata": {
  "kernelspec": {
   "display_name": "Python 3 (ipykernel)",
   "language": "python",
   "name": "python3"
  },
  "language_info": {
   "codemirror_mode": {
    "name": "ipython",
    "version": 3
   },
   "file_extension": ".py",
   "mimetype": "text/x-python",
   "name": "python",
   "nbconvert_exporter": "python",
   "pygments_lexer": "ipython3",
   "version": "3.11.4"
  }
 },
 "nbformat": 4,
 "nbformat_minor": 5
}
